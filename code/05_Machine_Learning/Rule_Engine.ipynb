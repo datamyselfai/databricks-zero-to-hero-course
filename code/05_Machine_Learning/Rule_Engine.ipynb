{
 "cells": [
  {
   "cell_type": "markdown",
   "metadata": {
    "application/vnd.databricks.v1+cell": {
     "cellMetadata": {},
     "inputWidgets": {},
     "nuid": "e47716e8-1f8f-4cca-b893-8626abbcbb39",
     "showTitle": false,
     "tableResultSettingsMap": {},
     "title": ""
    }
   },
   "source": [
    "  <img width=\"800px\" src=\"https://raw.githubusercontent.com/databricks-demos/dbdemos-resources/main/images/fsi/smart-claims/rule_engine.png\" />"
   ]
  },
  {
   "cell_type": "code",
   "execution_count": 0,
   "metadata": {
    "application/vnd.databricks.v1+cell": {
     "cellMetadata": {
      "byteLimit": 2048000,
      "implicitDf": true,
      "rowLimit": 10000
     },
     "inputWidgets": {},
     "nuid": "3825e891-025b-4cfc-825a-953d5a891a94",
     "showTitle": false,
     "tableResultSettingsMap": {},
     "title": ""
    }
   },
   "outputs": [
    {
     "output_type": "display_data",
     "data": {
      "text/html": [
       "<style scoped>\n",
       "  .table-result-container {\n",
       "    max-height: 300px;\n",
       "    overflow: auto;\n",
       "  }\n",
       "  table, th, td {\n",
       "    border: 1px solid black;\n",
       "    border-collapse: collapse;\n",
       "  }\n",
       "  th, td {\n",
       "    padding: 5px;\n",
       "  }\n",
       "  th {\n",
       "    text-align: left;\n",
       "  }\n",
       "</style><div class='table-result-container'><table class='table-result'><thead style='background-color: white'><tr><th>num_affected_rows</th><th>num_inserted_rows</th></tr></thead><tbody></tbody></table></div>"
      ]
     },
     "metadata": {
      "application/vnd.databricks.v1+output": {
       "addedWidgets": {},
       "aggData": [],
       "aggError": "",
       "aggOverflow": false,
       "aggSchema": [],
       "aggSeriesLimitReached": false,
       "aggType": "",
       "arguments": {},
       "columnCustomDisplayInfos": {},
       "data": [],
       "datasetInfos": [
        {
         "name": "_sqldf",
         "schema": {
          "fields": [
           {
            "metadata": {},
            "name": "num_affected_rows",
            "nullable": true,
            "type": "long"
           },
           {
            "metadata": {},
            "name": "num_inserted_rows",
            "nullable": true,
            "type": "long"
           }
          ],
          "type": "struct"
         },
         "tableIdentifier": null,
         "typeStr": "pyspark.sql.dataframe.DataFrame"
        }
       ],
       "dbfsResultPath": null,
       "isJsonSchema": true,
       "metadata": {
        "createTempViewForImplicitDf": true,
        "dataframeName": "_sqldf",
        "executionCount": 5
       },
       "overflow": false,
       "plotOptions": {
        "customPlotOptions": {},
        "displayType": "table",
        "pivotAggregation": null,
        "pivotColumns": null,
        "xColumns": null,
        "yColumns": null
       },
       "removedWidgets": [],
       "schema": [
        {
         "metadata": "{}",
         "name": "num_affected_rows",
         "type": "\"long\""
        },
        {
         "metadata": "{}",
         "name": "num_inserted_rows",
         "type": "\"long\""
        }
       ],
       "type": "table"
      }
     },
     "output_type": "display_data"
    }
   ],
   "source": [
    "%sql\n",
    "CREATE OR REPLACE TABLE smart_claims_dev.03_gold.customer_claim_policy_telematics_predicted AS \n",
    "  SELECT\n",
    "    t.*,\n",
    "    a.* EXCEPT (chassis_no, claim_no)\n",
    "  FROM\n",
    "    smart_claims_dev.03_gold.customer_claim_policy_telematics t\n",
    "    JOIN smart_claims_dev.03_gold.claim_images_predicted a USING(claim_no)"
   ]
  },
  {
   "cell_type": "code",
   "execution_count": 0,
   "metadata": {
    "application/vnd.databricks.v1+cell": {
     "cellMetadata": {
      "byteLimit": 2048000,
      "implicitDf": true,
      "rowLimit": 10000
     },
     "inputWidgets": {},
     "nuid": "a01d0266-52e1-4781-afc3-bf138ff112e3",
     "showTitle": false,
     "tableResultSettingsMap": {},
     "title": ""
    }
   },
   "outputs": [],
   "source": [
    "%sql\n",
    "CREATE OR REPLACE TABLE smart_claims_dev.02_silver.claims_rules (\n",
    "  rule_id BIGINT GENERATED ALWAYS AS IDENTITY,\n",
    "  rule STRING, \n",
    "  check_name STRING,\n",
    "  check_code STRING,\n",
    "  check_severity STRING,\n",
    "  is_active Boolean\n",
    ");"
   ]
  },
  {
   "cell_type": "code",
   "execution_count": 0,
   "metadata": {
    "application/vnd.databricks.v1+cell": {
     "cellMetadata": {
      "byteLimit": 2048000,
      "rowLimit": 10000
     },
     "inputWidgets": {},
     "nuid": "dd6153b0-9afa-4950-9482-e5d3d7532080",
     "showTitle": false,
     "tableResultSettingsMap": {},
     "title": ""
    }
   },
   "outputs": [],
   "source": [
    "def insert_rule(rule, name, code, severity, is_active):\n",
    "  spark.sql(f\"INSERT INTO smart_claims_dev.02_silver.claims_rules(rule,check_name, check_code, check_severity,is_active) values('{rule}', '{name}', '{code}', '{severity}', {is_active})\")"
   ]
  },
  {
   "cell_type": "code",
   "execution_count": 0,
   "metadata": {
    "application/vnd.databricks.v1+cell": {
     "cellMetadata": {
      "byteLimit": 2048000,
      "rowLimit": 10000
     },
     "inputWidgets": {},
     "nuid": "b4bbfe9f-6585-45bd-b579-abdb0bfce133",
     "showTitle": false,
     "tableResultSettingsMap": {},
     "title": ""
    }
   },
   "outputs": [],
   "source": [
    "invalid_policy_date = '''\n",
    "  CASE WHEN to_date(pol_eff_date, \"yyyy-MM-dd\") < to_date(claim_date) and to_date(pol_expiry_date, \"yyyy-MM-dd\") < to_date(claim_date) THEN \"VALID\" \n",
    "  ELSE \"NOT VALID\"  \n",
    "  END\n",
    "'''\n",
    "\n",
    "insert_rule('invalid policy date', 'valid_date', invalid_policy_date, 'HIGH', True)"
   ]
  },
  {
   "cell_type": "code",
   "execution_count": 0,
   "metadata": {
    "application/vnd.databricks.v1+cell": {
     "cellMetadata": {
      "byteLimit": 2048000,
      "rowLimit": 10000
     },
     "inputWidgets": {},
     "nuid": "23737b7d-9006-4de0-918d-bacda093c8c5",
     "showTitle": false,
     "tableResultSettingsMap": {},
     "title": ""
    }
   },
   "outputs": [],
   "source": [
    "exceeds_policy_amount = '''\n",
    "CASE WHEN  sum_insured >= total \n",
    "    THEN \"claim value in the range of premium\"\n",
    "    ELSE \"claim value more than premium\"\n",
    "END \n",
    "'''\n",
    "insert_rule('exceeds policy amount', 'valid_amount', exceeds_policy_amount, 'HIGH', True)"
   ]
  },
  {
   "cell_type": "code",
   "execution_count": 0,
   "metadata": {
    "application/vnd.databricks.v1+cell": {
     "cellMetadata": {
      "byteLimit": 2048000,
      "rowLimit": 10000
     },
     "inputWidgets": {},
     "nuid": "5f6adbed-54f5-4d02-98d8-1a3aa2a705fb",
     "showTitle": false,
     "tableResultSettingsMap": {},
     "title": ""
    }
   },
   "outputs": [],
   "source": [
    "severity_mismatch = '''\n",
    "CASE WHEN    incident_severity=\"Total Loss\" AND damage_prediction.label = \"major\" THEN  \"Severity matches the report\"\n",
    "       WHEN  incident_severity=\"Major Damage\" AND damage_prediction.label = \"minor\"  THEN  \"Severity matches the report\"\n",
    "       WHEN  (incident_severity=\"Minor Damage\" OR incident_severity=\"Trivial Damage\") AND damage_prediction.label = \"ok\" THEN  \"Severity matches the report\"\n",
    "       ELSE \"Severity does not match\"\n",
    "END \n",
    "'''\n",
    "\n",
    "insert_rule('severity mismatch', 'reported_severity_check', severity_mismatch, 'HIGH', True)"
   ]
  },
  {
   "cell_type": "code",
   "execution_count": 0,
   "metadata": {
    "application/vnd.databricks.v1+cell": {
     "cellMetadata": {
      "byteLimit": 2048000,
      "rowLimit": 10000
     },
     "inputWidgets": {},
     "nuid": "e3b579d6-7f76-4160-9b60-bca706fd057f",
     "showTitle": false,
     "tableResultSettingsMap": {},
     "title": ""
    }
   },
   "outputs": [],
   "source": [
    "exceeds_speed = '''\n",
    "CASE WHEN  telematics_speed <= 45 and telematics_speed > 0 THEN  \"Normal Speed\"\n",
    "       WHEN telematics_speed > 45 THEN  \"High Speed\"\n",
    "       ELSE \"Invalid speed\"\n",
    "END\n",
    "'''\n",
    "insert_rule('exceeds speed', 'speed_check', exceeds_speed, 'HIGH', True)"
   ]
  },
  {
   "cell_type": "code",
   "execution_count": 0,
   "metadata": {
    "application/vnd.databricks.v1+cell": {
     "cellMetadata": {
      "byteLimit": 2048000,
      "rowLimit": 10000
     },
     "inputWidgets": {},
     "nuid": "2fb86b28-de24-483a-8d21-c88766773024",
     "showTitle": false,
     "tableResultSettingsMap": {},
     "title": ""
    }
   },
   "outputs": [],
   "source": [
    "release_funds = '''\n",
    "CASE WHEN  reported_severity_check=\"Severity matches the report\" and valid_amount=\"claim value in the range of premium\" and valid_date=\"VALID\" then \"release funds\"\n",
    "       ELSE \"claim needs more investigation\" \n",
    "END\n",
    "'''\n",
    "insert_rule('release funds', 'fund_release', release_funds, 'HIGH', True)"
   ]
  },
  {
   "cell_type": "code",
   "execution_count": 0,
   "metadata": {
    "application/vnd.databricks.v1+cell": {
     "cellMetadata": {
      "byteLimit": 2048000,
      "rowLimit": 10000
     },
     "inputWidgets": {},
     "nuid": "2fa3d36e-56fe-4b8b-9e3f-12ebf2365fa9",
     "showTitle": false,
     "tableResultSettingsMap": {},
     "title": ""
    }
   },
   "outputs": [
    {
     "output_type": "stream",
     "name": "stdout",
     "output_type": "stream",
     "text": [
      "invalid policy date \n  CASE WHEN to_date(pol_eff_date, \"yyyy-MM-dd\") < to_date(claim_date) and to_date(pol_expiry_date, \"yyyy-MM-dd\") < to_date(claim_date) THEN \"VALID\" \n  ELSE \"NOT VALID\"  \n  END\n\nexceeds policy amount \nCASE WHEN  sum_insured >= total \n    THEN \"claim value in the range of premium\"\n    ELSE \"claim value more than premium\"\nEND \n\nseverity mismatch \nCASE WHEN    incident_severity=\"Total Loss\" AND damage_prediction.label = \"major\" THEN  \"Severity matches the report\"\n       WHEN  incident_severity=\"Major Damage\" AND damage_prediction.label = \"minor\"  THEN  \"Severity matches the report\"\n       WHEN  (incident_severity=\"Minor Damage\" OR incident_severity=\"Trivial Damage\") AND damage_prediction.label = \"ok\" THEN  \"Severity matches the report\"\n       ELSE \"Severity does not match\"\nEND \n\nexceeds speed \nCASE WHEN  telematics_speed <= 45 and telematics_speed > 0 THEN  \"Normal Speed\"\n       WHEN telematics_speed > 45 THEN  \"High Speed\"\n       ELSE \"Invalid speed\"\nEND\n\nrelease funds \nCASE WHEN  reported_severity_check=\"Severity matches the report\" and valid_amount=\"claim value in the range of premium\" and valid_date=\"VALID\" then \"release funds\"\n       ELSE \"claim needs more investigation\" \nEND\n\n"
     ]
    }
   ],
   "source": [
    "from pyspark.sql.functions import expr\n",
    "\n",
    "df = spark.sql(\"SELECT * FROM smart_claims_dev.03_gold.customer_claim_policy_telematics_predicted\")\n",
    "rules = spark.sql('SELECT * FROM smart_claims_dev.02_silver.claims_rules where is_active=true order by rule_id').collect()\n",
    "for rule in rules:\n",
    "  print(rule.rule, rule.check_code)\n",
    "  df=df.withColumn(rule.check_name, expr(rule.check_code))\n",
    "\n",
    "#overwrite table with new insights\n",
    "df.write.mode(\"overwrite\").option(\"overwriteSchema\", \"true\").saveAsTable(\"smart_claims_dev.03_gold.claim_insights\")"
   ]
  },
  {
   "cell_type": "code",
   "execution_count": 0,
   "metadata": {
    "application/vnd.databricks.v1+cell": {
     "cellMetadata": {
      "byteLimit": 2048000,
      "rowLimit": 10000
     },
     "inputWidgets": {},
     "nuid": "a003d91d-5c76-4b2a-a0d0-b5722849f8e0",
     "showTitle": false,
     "tableResultSettingsMap": {},
     "title": ""
    }
   },
   "outputs": [
    {
     "output_type": "display_data",
     "data": {
      "text/html": [
       "<style scoped>\n",
       "  .table-result-container {\n",
       "    max-height: 300px;\n",
       "    overflow: auto;\n",
       "  }\n",
       "  table, th, td {\n",
       "    border: 1px solid black;\n",
       "    border-collapse: collapse;\n",
       "  }\n",
       "  th, td {\n",
       "    padding: 5px;\n",
       "  }\n",
       "  th {\n",
       "    text-align: left;\n",
       "  }\n",
       "</style><div class='table-result-container'><table class='table-result'><thead style='background-color: white'><tr><th>rule_id</th><th>rule</th><th>check_name</th><th>check_code</th><th>check_severity</th><th>is_active</th></tr></thead><tbody><tr><td>1</td><td>exceeds policy amount</td><td>valid_amount</td><td>\n",
       "CASE WHEN  sum_insured >= total \n",
       "    THEN \"claim value in the range of premium\"\n",
       "    ELSE \"claim value more than premium\"\n",
       "END \n",
       "</td><td>HIGH</td><td>true</td></tr><tr><td>2</td><td>severity mismatch</td><td>reported_severity_check</td><td>\n",
       "CASE WHEN    incident_severity=\"Total Loss\" AND damage_prediction.label = \"major\" THEN  \"Severity matches the report\"\n",
       "       WHEN  incident_severity=\"Major Damage\" AND damage_prediction.label = \"minor\"  THEN  \"Severity matches the report\"\n",
       "       WHEN  (incident_severity=\"Minor Damage\" OR incident_severity=\"Trivial Damage\") AND damage_prediction.label = \"ok\" THEN  \"Severity matches the report\"\n",
       "       ELSE \"Severity does not match\"\n",
       "END \n",
       "</td><td>HIGH</td><td>true</td></tr><tr><td>3</td><td>exceeds speed</td><td>speed_check</td><td>\n",
       "CASE WHEN  telematics_speed <= 45 and telematics_speed > 0 THEN  \"Normal Speed\"\n",
       "       WHEN telematics_speed > 45 THEN  \"High Speed\"\n",
       "       ELSE \"Invalid speed\"\n",
       "END\n",
       "</td><td>HIGH</td><td>true</td></tr><tr><td>4</td><td>release funds</td><td>fund_release</td><td>\n",
       "CASE WHEN  reported_severity_check=\"Severity matches the report\" and valid_amount=\"claim value in the range of premium\" and valid_date=\"VALID\" then \"release funds\"\n",
       "       ELSE \"claim needs more investigation\" \n",
       "END\n",
       "</td><td>HIGH</td><td>true</td></tr><tr><td>5</td><td>invalid policy date</td><td>valid_date</td><td>\n",
       "  CASE WHEN to_date(pol_eff_date, \"yyyy-MM-dd\") < to_date(claim_date) and to_date(pol_expiry_date, \"yyyy-MM-dd\") < to_date(claim_date) THEN \"VALID\" \n",
       "  ELSE \"NOT VALID\"  \n",
       "  END\n",
       "</td><td>HIGH</td><td>true</td></tr><tr><td>6</td><td>invalid policy date</td><td>valid_date</td><td>\n",
       "  CASE WHEN to_date(pol_eff_date, \"yyyy-MM-dd\") < to_date(claim_date) and to_date(pol_expiry_date, \"yyyy-MM-dd\") < to_date(claim_date) THEN \"VALID\" \n",
       "  ELSE \"NOT VALID\"  \n",
       "  END\n",
       "</td><td>HIGH</td><td>true</td></tr></tbody></table></div>"
      ]
     },
     "metadata": {
      "application/vnd.databricks.v1+output": {
       "addedWidgets": {},
       "aggData": [],
       "aggError": "",
       "aggOverflow": false,
       "aggSchema": [],
       "aggSeriesLimitReached": false,
       "aggType": "",
       "arguments": {},
       "columnCustomDisplayInfos": {},
       "data": [
        [
         1,
         "exceeds policy amount",
         "valid_amount",
         "\nCASE WHEN  sum_insured >= total \n    THEN \"claim value in the range of premium\"\n    ELSE \"claim value more than premium\"\nEND \n",
         "HIGH",
         true
        ],
        [
         2,
         "severity mismatch",
         "reported_severity_check",
         "\nCASE WHEN    incident_severity=\"Total Loss\" AND damage_prediction.label = \"major\" THEN  \"Severity matches the report\"\n       WHEN  incident_severity=\"Major Damage\" AND damage_prediction.label = \"minor\"  THEN  \"Severity matches the report\"\n       WHEN  (incident_severity=\"Minor Damage\" OR incident_severity=\"Trivial Damage\") AND damage_prediction.label = \"ok\" THEN  \"Severity matches the report\"\n       ELSE \"Severity does not match\"\nEND \n",
         "HIGH",
         true
        ],
        [
         3,
         "exceeds speed",
         "speed_check",
         "\nCASE WHEN  telematics_speed <= 45 and telematics_speed > 0 THEN  \"Normal Speed\"\n       WHEN telematics_speed > 45 THEN  \"High Speed\"\n       ELSE \"Invalid speed\"\nEND\n",
         "HIGH",
         true
        ],
        [
         4,
         "release funds",
         "fund_release",
         "\nCASE WHEN  reported_severity_check=\"Severity matches the report\" and valid_amount=\"claim value in the range of premium\" and valid_date=\"VALID\" then \"release funds\"\n       ELSE \"claim needs more investigation\" \nEND\n",
         "HIGH",
         true
        ],
        [
         5,
         "invalid policy date",
         "valid_date",
         "\n  CASE WHEN to_date(pol_eff_date, \"yyyy-MM-dd\") < to_date(claim_date) and to_date(pol_expiry_date, \"yyyy-MM-dd\") < to_date(claim_date) THEN \"VALID\" \n  ELSE \"NOT VALID\"  \n  END\n",
         "HIGH",
         true
        ],
        [
         6,
         "invalid policy date",
         "valid_date",
         "\n  CASE WHEN to_date(pol_eff_date, \"yyyy-MM-dd\") < to_date(claim_date) and to_date(pol_expiry_date, \"yyyy-MM-dd\") < to_date(claim_date) THEN \"VALID\" \n  ELSE \"NOT VALID\"  \n  END\n",
         "HIGH",
         true
        ]
       ],
       "datasetInfos": [],
       "dbfsResultPath": null,
       "isJsonSchema": true,
       "metadata": {},
       "overflow": false,
       "plotOptions": {
        "customPlotOptions": {},
        "displayType": "table",
        "pivotAggregation": null,
        "pivotColumns": null,
        "xColumns": null,
        "yColumns": null
       },
       "removedWidgets": [],
       "schema": [
        {
         "metadata": "{}",
         "name": "rule_id",
         "type": "\"long\""
        },
        {
         "metadata": "{}",
         "name": "rule",
         "type": "\"string\""
        },
        {
         "metadata": "{}",
         "name": "check_name",
         "type": "\"string\""
        },
        {
         "metadata": "{}",
         "name": "check_code",
         "type": "\"string\""
        },
        {
         "metadata": "{}",
         "name": "check_severity",
         "type": "\"string\""
        },
        {
         "metadata": "{}",
         "name": "is_active",
         "type": "\"boolean\""
        }
       ],
       "type": "table"
      }
     },
     "output_type": "display_data"
    }
   ],
   "source": [
    "display(rules)"
   ]
  },
  {
   "cell_type": "code",
   "execution_count": 0,
   "metadata": {
    "application/vnd.databricks.v1+cell": {
     "cellMetadata": {
      "byteLimit": 2048000,
      "implicitDf": true,
      "rowLimit": 10000
     },
     "inputWidgets": {},
     "nuid": "18a16b3a-1971-4837-9ad1-8972b1196903",
     "showTitle": false,
     "tableResultSettingsMap": {},
     "title": ""
    }
   },
   "outputs": [
    {
     "output_type": "display_data",
     "data": {
      "text/html": [
       "<style scoped>\n",
       "  .table-result-container {\n",
       "    max-height: 300px;\n",
       "    overflow: auto;\n",
       "  }\n",
       "  table, th, td {\n",
       "    border: 1px solid black;\n",
       "    border-collapse: collapse;\n",
       "  }\n",
       "  th, td {\n",
       "    padding: 5px;\n",
       "  }\n",
       "  th {\n",
       "    text-align: left;\n",
       "  }\n",
       "</style><div class='table-result-container'><table class='table-result'><thead style='background-color: white'><tr><th>claim_no</th><th>chassis_no</th><th>policy_no</th><th>claim_date</th><th>months_as_customer</th><th>injury</th><th>property</th><th>vehicle</th><th>total</th><th>collision_type</th><th>number_of_vehicles_involved</th><th>driver_age</th><th>insured_relationship</th><th>license_issue_date</th><th>incident_date</th><th>incident_hour</th><th>incident_type</th><th>incident_severity</th><th>number_of_witnesses</th><th>suspicious_activity</th><th>cust_id</th><th>policytype</th><th>pol_issue_date</th><th>pol_eff_date</th><th>pol_expiry_date</th><th>make</th><th>model</th><th>model_year</th><th>use_of_vehicle</th><th>product</th><th>sum_insured</th><th>premium</th><th>deductable</th><th>customer_id</th><th>date_of_birth</th><th>borough</th><th>neighborhood</th><th>zip_code</th><th>firstname</th><th>lastname</th><th>address</th><th>lat_long</th><th>telematics_speed</th><th>telematics_latitude</th><th>telematics_longitude</th><th>image_name</th><th>path</th><th>modificationTime</th><th>length</th><th>content</th><th>damage_prediction</th><th>image_id</th><th>_rescued_data</th><th>valid_date</th><th>valid_amount</th><th>reported_severity_check</th><th>speed_check</th><th>fund_release</th></tr></thead><tbody><tr><td>1f765afc-5d41-4ef2-87f7-a60a2aeaf92c</td><td>LVVDC21B3GD020661</td><td>102144371</td><td>2020-06-16</td><td>298</td><td>5830</td><td>11660</td><td>40810</td><td>58300</td><td>Rear Collision</td><td>1</td><td>27.0</td><td>not-in-family</td><td>2012-04-30</td><td>2020-10-04</td><td>3</td><td>Single Vehicle Collision</td><td>Minor Damage</td><td>1</td><td>false</td><td>3577.0</td><td>COMP</td><td>2020-05-03</td><td>2020-06-06</td><td>2021-07-05</td><td>CHERY</td><td>ARIZO 7</td><td>2016</td><td>PRIVATE</td><td>STANDARD</td><td>17203.0</td><td>1030.0</td><td>500</td><td>3577</td><td>2006-05-16</td><td>QUEENS</td><td>WEST QUEENS</td><td>11377</td><td>Julius</td><td>Wagner</td><td>QUEENS, 11377</td><td>List(-52.034763, 124.71737)</td><td>31.039113200704257</td><td>40.76418333333333</td><td>-73.88939078333333</td><td>2_High.jpg</td><td>dbfs:/Volumes/smart_claims_dev/00_landing/claims/images/2_High.jpg</td><td>2025-08-10T08:58:30Z</td><td>1928661</td><td>List(iVBORw0KGgoAAAANSUhEUgAABAAAAAQACAIAAADwf7zUAAAAemVYSWZNTQAqAAAACAACknwAAgAAAD0AAAAmkoYAAgAAABYAAABkAAAAAE9wZW5BSS0tSW1hZ2VHZW5lcmF0aW9uLS1nZW5lcmF0aW9uLVh0SkVrOHhpem5mZHE= (truncated), iVBORw0KGgoAAAANSUhEUgAAAGQAAABkCAIAAAD/gAIDAABrj0lEQVR4Xky8BXgb6bKu6/vsNTPhmNlCS7JkBpmZmZnZlm2ZmZmZmZkxZoiZkzhMDjNzMsmse6qdtdc5nUpH0hjUb3/1VVX3r2GYPX9pfuni9ORmf89UdVlrVFCShaG9MFmSi5OPhZmD6SwLMxMrKws7KwsnDzdGRl7VgxaWV9neNb46MLMzOL07PLM/Mrs/NLs/isTe8Oze0Mzu4PR2/9T2wBSy75vc6p3c6J1Y7xtf65tY751Y6/m/sQov9oxBrPaMrXSNrbQMzJlbWwuQyHa2DvUNLfcev3zx7tvTV18ePP949/GHWw/eXr/36tqdl1dvvYC4duP5hf3D2cnV3tahspyy5IjYpMjY1PjEtMTkxOiEuKj4jLTMzPTs5MSUjNSMsqKS4vyC3NT0xLDwIE/PMG/vCF+fKD9adIBffHBQUkR4WnxsTkZGcUlpfWvX2PTC9PxKd/dwT89Ie3t/TlZOTm5+dV0rw/T5SzMrBwsrlxchFvYnx1d7O8Zry9rjwtMsDO2EKRLs7LwsTOxAjYmRDaixsXKwsXHicAQtPZOgyOSyxoHuibWBuZ3BmZ2BqS3ANDC91Te52TuBAOqZ2OgeX+seW+0aXe4cOd81cr5z+HzH8GLH8FLnEMRix9BC++BC+9Bi+yDEgqu7Oysby5kzZ5iYmHAYlAxVqrml5ev3v//++e8ff//z9fvPD59/vH737fmrz4+ff3jw5MODx+/vP3p3+Oj94cN3N269WF680Ns5UVZUnxKbFh8e6+3knhQbn5aUkpGcmpWanpmWnhwTG+LtQ3dzDXBzDfZ0D/P1CQdq/rTIAP/EiLDkqMiM5ITc7OyOvqHBkXMtrd01tc0lxRVpqemxUZEl5bUME/N7U0sXZpcvLaxePr92ZXnt6vJ/qK30to/VlDQnhKeaG1gJk0XZ2bhZWDiOVIZQgz2A4+Tg4kNhxaVkDEytPOkREUm5ORUt9T0TnaPn+yfXQSwdI0BnqWNoqW1ooXVgrm1grqV/tq1/trVvpqV3prl3pqVnurlnuql3Jj07H4vmOX3mzImTJ0+dOsXBwU7AYfmxGF9vr1ev3vzzb2SD/T///PPz569v339++vzj3cdvwO7F6y/PX3159vLL0xdfnjz/8uTZ53sPP+zs3hkZWqqr7irILc3PKchKz0qMTQjxpvk42Ps42NGcnQJcnOluLkFubkHurkGeHonh4bGhofHhoQkR4fm5udVVVXm5+empGUlxiUnxydFhoTl5JQxDU5ujM9sT87uTCLKDReC1cXVt8/ra+rWVlYPFuZ2J4cWelqGaoobYwEQjbQsSvxAriAuRGCcgY2FhY2JiPcvIwsjEwsLCzs7GycHOxcPNi8cLKCiqGZnbOHnSw+IyM4vqK5qHGnsmm3qmGiG6Jxu6Jhu7ztV3TtR3jDd0jJfXdSkoSjEyMQKnE7CdPAnUgBQ/DkPAog30dNfXVgHTEbH/bL/B/Y2A+/vT5+/v3n978+7bqzffXr7++uKI3ZMXXx4//3Ln/tvV1WtdnZMlBbV0Vw9PGysPGytfRwdvO2s/J3uao72foz2oLNjbO5JOD6N5g9xAa+F+tMSY2NQESOfoWPgTEphXUMzQP7E+cG5taHpzdHb73MLe7PmLi6uXlzeurW/d2Ny6sbV1Y2Pj6sr5i/NTG+P9s52NAxW5taF+0dpqhgQsmYWVk4WJjZmZjZGRlYmZBfaMjMxnzzJBGp09y8zIyAI0EXZcfFgUlkwUoEpIqanrWFg7+PiHxSTn5pY1ljf317WP1LQM29iYn2VkAkAnT548fuzY8ePHTpw8geHjJfHjcGg+CpFfSky0pDDv3bu3/y+v/26/fv0DyD5//v7x47f377++eff19ZsvQA0U9/Tl5ycvPj1+8en+k0+7uw/72qczojIDnd197GwggJe/k0OQm4u/kyMgC/Xxpru7+TrAi/ZJEWGRgYGRQYFRoaEh/j4RwWEMvWPL/eMrwGtwan1kZmt8bgeycn7l8vn1q2tbN7Z3bu7u3NrdubmzdX1j/crK4t7sudWR3um2up6SrIpA73AdVQN+jAALCyczM+tRgMQA01GcZWZnZTtzhvH06bMQjGeZgB0OSyASyWDhFAFBMkmATCJLScvJyskyg6ZOnoI4fuLkMWQ7DvJiZmbix2OIOAi0IJEgQMCbmRrtX9j5+evnfzH988+vt29ePnny8MP7d9+/ffv+Ddl9/vztw/svb999ef3m84tXn569/Pjk+cdHzz4+fP7x4YtPD559unzt+fjgclFyUZiHb7CrS6Crs7+zsx/kprMz3cPdzcrKx9He382F7uUVHkgPDwwM9PbytLVi6B493zO23De+3A+8JteHpjbGEIntzy1fAgtb37q+vXNrb+/2/t7tvb1b+0Bt89ra8sWF6c3x4YWetuG6subclEJ/jyANFT0inszBwf3bzliOgpUVkpQFtHb61JlTp86wscGLrIDj5AmEy+84fer06VPwAF5EtuPHj/91tAEweAW+A5wevIzIj8GgeLBYtJioSGFhzqNH93/+/Pvbt6+XLl3oH+prbq5rbqnv7W0fHuxZXJrZ3d28eu3g/oP7z1++fPP2/dt3n16//vT8xYenz94/fvr+IVQG2D8Hal8Orj0bH1kuyiiK9PGLoNEgoFb6uziH02gxQeBf0ZmJqdlJaTH0QLqTE0Pn8FLX6FL36FLv2Erf+Er/+NrgufWR6c1zczuz5y8srV1e37y+s3vrwv6dSxfuXrxw99L+nf3dWyC09VVwtO1zo0sD3eNt9T2VhbUZ8Xk0tyAddQMKSZSHG41FYyhELBs7OycXFwc7OxMjMwbFy8vFdWTfAOj0GdDbmbNIwDME1vGTCKxjfx5tv3kdP3GckfEsGwszDxc7NwcbDw8XJycHbJaWpoPD3ePnRurqq/LyM+JjQ2k+Lpbm+iZGOlaWRs7ONsFBtOTkyPyCtOqaYvjKvf2tZ8+fv3v/6e3bTy9ffnj69P2jJ+/vPXp77+Hbe48/3Hv66cLBw56uc0U5ZRXlTa1tw33D8/2ji4Pj5wdG5nsHJusaehrrOhg6BuY7BuY6BmY7Buc7BpEHnYPz3cNL/WMrI9MbUwv7S6tXwLz2gBfAunh46eLhwcW7ly7cubh3a3f7+sbqwfn5nZnx5aHeyY6m3pqyppKc8pToDHcnmoayviBZDMWLgWMDiYGmuDi5sCgUgukMZCW4ORKQsUxnzp45dfo/4gJl/fnnH3/+dfQHQQYbIAP1nT2DaBNyE775LCMjhULyp7nYWhmoKUmLCJH4+LihSAP7k4hOEen+/hb4+dzcXLLyUqGR9OGx/lt3b716/RbR2puPz1+8f/zkzb2Hr2/ff33n4du7D94dPv5w/e6r2eXLncPL51YuL+zeWju4v37lwfbV+5uX7zLUNg9UNfZWNiABD6obeqsbe6vgcV1PeW1nVV13W8/k4soB8Nrdu4Uo69LhwaXDy0eBUIP0hDqwdvk/dtY/09U61FTTXlFUk5tWFB2S5GLnpaqsIShA4eXm4eTgBF5gZEzIwTIxQzfFyHT2qBzA4Z85cxqOE9IQgfQH8ud3wJMjlf3FCrxZWeCbgC0iS0SYkN2nkGw+eeL331PIhmD/zev/3UDNKAzK2Fg3vzBz4fzsnbuHz56/fvHy7YsX7549e/vo8au791/cvPvixt2Xt++9vnEIyC51jSxNnL9w/sKd3Wv39649ZCiv6SytaiuqaCmqaiutbiuuaM4vacgpqMnKq8zOr8rJryosbe4ZnAP/2ty6vrt76yLk48XDywf3rhzcP4p7QO3S/u397SNkC7sz51ZGB2Z62oeba7uqy5qKcqqS4/L8fCPNTexlpWTwWAyaD4ojHw8nJyc7OzMTFAUmLg4OHug3uHmZmZmhI4Xs+xPBBaj+sx0/cQwA4fFYLsho+D4OdvBDKCYIbUZEn/AA2IPoWOBV+CnIWUD+C5wEUPFpJOn/E+CeIHM5eenwqMCOnrb9i/v3Hzx6+uzV8+dvnj59A8huHz67euPxpeuPD24+vXLrGRjRzMqFrSuHJQUVDMUVrQVFDTn5QKcqM68S9rn5NflF9YUljUWlTaWV7SU1PTWNA5Pzu0srB+ub18C/QF8HlxBYVy/fv3blAcTVg/sIMqgD29e31g6WF3Zmz60gKmsfqa/rrihtys+pTE8qiApPc3H0kaPKCvDjqCKCKB5eNC8fHvFvNA6DI5EooiISaAyehZkFdABi+tcff/7rjz/+Bdsf/+Lh5gTxgfeh0XxEAgGPx2MwAB6NxqAxEPAvBovFgE9iUPAVfHw8PLzcXFxHZ4SdlRXIMgNRRMH/kSWcFEY8P97G0aKsqnB+aeHWncMnT14+ffrq6dPXDx48v3H70cHV+/sHd69cf3jlxqOdi3eSAoMZKkBZ5S0FRfV5hbV5RXVHUV9QjMAqq+qsaRwsrekur+kenlibXdw/v3qwfqQvMPvLv3lduX/96sPrVx5eu3wfQYYk5m8vu7g0tzU1fn6od6qjZaiuuqO0qD43qyIjpSguMs3e0llDUUlBSgSL5sOh+Ih4nKiQoKy0FJUqLSklJyIigUHjwMdBFMePn/gD4QXiOg6WBIpDSiQrCz8eJyEmIiEhISlFlaJKU6VlkKDKwo8Ql5QSERMTEhYhUygEEgmLx6PQGF6ktHCDe7KxsiGSBJ8ExQG4s4xYHMbYwqCsunh1beXqlev3Dh89fPj0wYNn9+8/BWT7lw/3Lt/bPrgHvBgaW4frmgbAoUqrO4rKmiAH80vqC8uaaxr6a5uHqxsGgFRJVWf3wOL41NbMIvj9b143L1y4g+jr8gMg9TuuIXtAdu/Shdt7OzfA+5cWdmen1ydGlmBKb20aqK3sqCptqStv7Wnuy0nJszQxM9ZQFCbiQABELEaMTHCzNYgM8lBXUwUAFAEKiUjC4fAEHJ6DFfiwgAdBKfwfIPfHn9C2QolVUpJ2cXNwcHaytLM1sbA0NDM3NDXXNzbW0jfQ0NFV0dRSUlWXU1KmysiKSUgKiYoKkMkgSV4UCsAhtQJawiOtnT3DyMvHa+tkU9dYMzM7vbt/4dq1mzdv3L1x/e6NW/cvXLm3dfHu1oW7DP1QyCbXBybXYQY+N783Pb/bPTDf1jvT2D5R23IEq7qrpLKzvXt6aGxtfPq/vK4d+f0d0BcI6tpvZFcfIil55T4Y/97Oza2Nq+srBytgkPO7C7Pbc1MbM1Mb68v7+9tXLmwe3Ll2Z7R7yN/Z00SJSoA84uVmZ2HlYWdVk5NUpAqjONlwvNzKctJmJkZKisriomKS4uKiQkKgJl5eKG5QKmDeYoF8goyzsjZLSklITk+OjI0KCguj0QM9af4unt62rm62js6Wdg6mNrbGllYGpmY6hkaa2toKKkqSVCpZUBASFhwQ5oyzSJk5A0UGZlFvX6+2tpapman1za3tnf39vUuXr9y8ev3e5v5NhomF7cGpzf6prdG5/aX1K0vrl8dntzoH5hrax2uahyvr+0qrOosr2po7zvUNnx8eXzs3szW/sL+8evl//f725YuHkI+IrK7+5gWwDuH1/d2b0MRe2LlxcffmwYXbVy/fvXHt/s0b925dv3vr6u3DW/ce3X+0ND7dlBQtLybqbWUhRxEQwWFg2uTmYOWAMYqFCc3Noamq5GBjrqmlQZUUd3ey19PWpEpJCQsKQtrKSYkT+LEwzR/76xhYt4gIxdzCKCzMLyMnNbcQBueM+OSU0JjYoMiogPBwJzcXNQ01CQkxASKeH4ciEbAUIl5MSEBImEIkEnh5uNnYodJARTjDxHhWWpqakBTb3d05PTuzsrqxtr61s3Ph0uXrDIOz2z2TCKypxYubO9cXVi5OzW13D843to/VNA1W1vWWVHYUV7Q3tY/3DC4MjJ4fPbc2ObM199u/Nq/u7NyA5v7SxbtQFkFTV8HvLyPGf/Xg8Orlw+uX79+89vDOzcd3bz85vP3o7p1Hh3cf3L117+6tw8NbhwDr0eGjq+sb9ga6Ajishpykk5aiBFkA3jgPJzsRi+JkZeVmZxMTEQwKdLO01PN2stfX1gGbEqRQyGSyiCAZxcuDpBDjWejOIDmhgEKLgEJxm1nqNbfU1DXWllWWB4bQxcSEkcbkDFIM2ViZONhYTv1uiU+fwqB5oAwTCXgyiR/qNA+cKIDGdJabh8vJ1aamoWp0fHxxeXV5dWt1bYuhZ3Kjb3IDcnBx9crBxTvzyxenFna7h+Yb2saqGgfA3YvL24rLWuvbRrv6Z3uHFgdHz4PZA6/Zhb2llYur61e2ICV3bkKbeoAA+m35D25ce3jr+qPb1x/fvfn4zm2IJ4cIqUf3Dh/eu/vg/uHDB3cfPnrw+M6Nu3evHy4OT9obGhhpa0hRSFaayuYaKiQUSk9OTE6IgOHh4ufjDTZToDubmupruZgbk/nxbCys0HAiBY4RTPo09CHKslKc0L+xMnNysPHjeOTkpGD6mRgbcHWwhO4NmjWYElC8XAQcHxcnK2QcNL/QUIDJc7KxYNG8QJKdg02AyE8kYHFYFC+S56zQSktSReMTI7t7u+aWltY2thl6pzZ6JzdGZrfBtm9efwAHPzO/2zu82NQxUdUwADlYUNpcWNZS1zrS1TfTMzDXN/yb1+rE5Mb03M780oWl1UtrG1e2d26A5f/W17WrDxBeV+8jAal3HYnbNx7cufUAas2jh8+ePn7x7MmLly9ePn/y7Mn9R4dXb23NrEZ60wyV5axUqLKCJBwnF4UfpywppE4V0aCKyIhQhAWIXhb6fdmhQXbGYhQSAZQoL6EkJcTJwQ4dRFFOqqo8VV+FKiVGlhETECRigoJprk62eAznX8f+BE2JCAkoyEogDTEzEysTI4xX0P0e9cNnRIWIGDTq2PFj7GwwyZ6FeknAQw/Ch+Lj5OZiI5Iwru52ldUlYxNjDL2Ta/1TG+Pzu1s7tw7vPN3dvTG9sD08vtLaNVnV0A85mF/cCLDqW0Y6eqa7+2d7BuZ7B+f7hxeHRpbhy8YmNyBtZ5f2zq8dbGxf34a+YQ8G75v7uzcgLuzdvLgPfcbtK5fuXD24fePK4c3rh4Ds4b0nL56/fvPq7QeY1t69f//67dPDh9c2L1Vn5Hub62tSRfBc3IJ4rK2uBo6PD3NUuvg4OQUJ/HrKUnJiFGNNRXFBvIKksJKsJCSjlppKCN3bQEdTV0NFUVZKXJiCx/DaWRkJ4Hi4OJhgHhATJhvqagqS+CHJeDhYILjYmUGbxxBepykCeHlZKuQe4GNlYYYJgJWVCY9F8eNgvOXDYviI/GhFRWpmdhJD77m1oZnNiYW93b3bj+6/uHz57tzS3vDESlv3FAKroi2nsD6/tLm+ZbS9ZxrEBdH9n/10V89UZ/dkW+doc8tAbW1HeWl9RVl9e/vQxLnV2dnN+fmtxaWd1eUL66sXN9cPtjev7u1cu7B//dKFm1cv37l359Hzpy/fvn739fOX79++f/748eXj53cu3RxvG7DTNcByc1NwmLQw7zBvRydTA0cLc2cbczN9DR01BU1VBUMdNX9fr9b6ipmRHndzvaL0+GB/7wBvl6hQuqWJgY66Kri2qYG6AJqD8exJNB+3sZ66uYk+HsXFj+YmYniIGNhz83GxnTh5Anhxc7KZmekLEAjQykF6QpUFgpCKRByaQsDx8nDhMXz8eJSCvCTDwNT6yOzGJALr1pMHr8CJN7aujU+td/bP1DYOQB3Myq8tLGttaBvtADS90529U+1dE60do00tA/UN3VVVLcXF1TmZBUnxybGhkZH04Mig0PSkjJrq9s6O4b6+qeGh2YmxxZnp1fm5zcWF7ZXlvY21i1sbBxf3r9+6du/x/afv3334/u3bz59///39x7vX757cvr81u+JibC+C50+kO+fGBcbSPctzk3saq5YmBgpTY0JpziG+rp62RhE0l5L0+KHONk8bk7rSgqKMmMaqkobq8hB/b5CVsZa8KIGbm41JU03R291eXVZcSgAjI4SXFcJRhXDSwvxiZCwHK/Nfx46zsDAaGetoqauwsrDCCMrIiPQQZALMGBQJIRKalxvmUTB9KAUMQzNbI3Pbk4v7Wzs3nzx89fjBiytXDmcXdnsG52ubB4vLWzPzaooqO5rbxzt6Jjt7Jju6Jlrahhoae6qqWktLanJzitNSMpJiE+IioqODQsP9AsP9gsLpwXERsQU5pVUVTQC0tXWgq3tscGBmdGR+8tzyzPT69PTG0sL29sbBlYs3Hxw+/vjhw8+/f/77n3//+vXr2+cvb56+vLN3JTs6xV5XNTfGz0hN1kxPJTbQMzslluZsaaGtYKuvYqUt72CkFhdGC/L3pHs5ulubNNWWlmTFtVYU1BdmBnu7aCmIyAhjxSg4TxcrmrujjAieQuATJPCR+flESGhZMZKsGJGI5QUtgaAUVaRdnG2FBAQgN+EpFEQFqpiagoySHBUecHGw8nKyiQqSGEbntsdg+l26AH3mowcvXj59c/f2o9X1g4HRxYaWIdBUVl5NaXV3W8dERzeQGm9pHYLjr6xsLCqsyMrITU1MTYyJj4uMiQuPAlmF0AJCfQLCafRw/6CYsKj0lOyivIryssbaus7mpr6OjpG+3nNDg7P9/dMDvZOT4+eXF7f3ti9DZfz86fN/L7H/+vvn5/cfupualIQFnI3UjeRFZChYVRlRuocNzdXa3lDDwVjDQkfRXFshyMMmPtzb3VY/JSYyNcjz/Oxob2NxbY5ndrSnnYGKhpyQrppMkJ+Hvo4WFM0TJ08iaI4fP3bsr7+OH+NHcUkJ4sGhYG4nU/h9fF0NtTT4uLhOnjgJHYa8nKS2loqulpqhjjrkvpm2krGuCkPn0Pzo3Nb00v7aFoxFT1+/ePv4wfP9CzfHzq00tAwXFDdn59VCH9/ePdHeNdbSOlBX31lZ0VBQUJaVnpOSkBIfHQ+aiguLjA0Jj6AFhPj6h/j4h0L4BoT6BUaFRCTFpeZkFhYX1lRWNNfVdbY2D3R1joGvNTX2Njf29vdPTk8ub67u37tzH5LxiNX/D38PLu7JiQkqCfJrC2O1RLGSFKy6BNFARcrX3sRCR9nVXNfL1sTGQM3D1kheQsjJXLO+ujiE5hPlYRNKc/N1s3axNs0K9/Ox1rOzMk1KiJGXkji6cPOfK7EIrqPrimJk3OnTp2D8ZGFh8vRy8vd0kRUU4GBhhi8UEaWYGOuamOhbmhvaWpt6O5p6OBgz5OaUllW2Dp5bgVo2P79x//Dxi+dvrl+/Pzm3CbByChpyipoa20bbuiaa2wbr6jsg9fJzitMh9eKS4hFBRcaGRsQEh0UHBof5+Id4+QV7+YV4+4V6+yNP/QIgJWMj4lKTsnKzS0qK62qq2oBRU313SV5FcWF1VVVzT/fEyPDs2vLOg3sPkGT897+/ffniZqStREKpk1FqZB51YbQOlagnLaApLWCpo+horOFla+xjZ2xnpGapr0oVIipIUPKTAtPjwg3VlYtD3UPdbYM8nUf7eofbGmierkWF+eIiQtC7Ipdn/nO1C6EGlVHiCNbvq9m6+hpJSVGGKgoCWBS0FFycbJamuhZmCCkfdztXa0NzA02G9OT0jJTs0rL6vuH5laXN/v5zV67cOTx8Mru4U9s0mJFTXVzZ0QrZ1zZcV9dRVlSdlZGTnJAaHx0XGxYVExIeExQeExgCpCL96CHetCAffwSWJy3YG8DRgoGXLz00IDgyODIuJjEjLbekqKautq2xvjMtLjUjJScnq7SpobetdXB4YGpjdfv50+e/fv5qzkz0kObwVkQ7SHKby2DVRfE6UgQDyCl5YWN1qp2BmrOZto+9CewNVaXlRCkywkRrA5UYT/OEcL/EUN/S5MD8zMTe7u65iZHizMSy8lJ5GSo7cv0LGWeAGjSzJDyfBAUnKoA9g6QnaOs4PxGbl59OB3EJC4JJnT17SklewtXR0sfDMdDHwVhXI4zmypCanJ6VkpGdntfZPrC9cWF8dLanb+bqtbuzC9tVdb2ZubV1jQPtXaO19R0lYFKp2clxiZB3MSER0YGh0fTgKHpQZEBQhD893Nc/yJsW6I0oK9CLFoSEH0SI11Fi0gLDAkKjw2LSU7IqK+obGtpyU7PSEtJSk0BvddVVHW3N/RMj0wf7Bwcby6FynDF2KqlG5BRNdKo6W4wyt4WauKW6lKGShLEq1d5Qxc5I3d3agOZqZW2opiglQhUkUAVJHqYqaXTbmYnBie7asuSg4oLM1vrq0uzkqspSAz0dbi4ODnY2FhZmNC+XvARFVowsKcQvRESfOYvcfIMNICanxCbEhKvIUskwcrIykgloRzvjQH8PRysDe2Od9toCBnsrmxD/gNL84pryur2tK4sza/39M9NzmxNTa9A35BU3t7aPNjV1FxeWpyenxUfFR4dGRgWHgZdH0IER1L4AJGj+wSArL1+AFejtH4Tw8g30hKAFedCCPH3pnr7B3n4hPgGALCM1u6Kitq60Mi81MzUxPSe7uKSotr66o6t9cGZ8NtBS1VkJ7eVgGGijFqJPjLWWSDAV9daXtdGgGqlSdRVEDZQlbAxULXRVnMx1zbUUtZWoVGj2ebgNVKi+1jq1pZm3797aXFuqqizp6emsKsnv7Wp3d7Q5uhLIAT2XjDhZUpgoQiZIChIo/Oiz0In975VoU3PjgvxMLTVlGUlxMooHz8Nhoqsa4u9mY6qTEuiUkxzGAPl66uQpcRERf2/a2vLuytI2VPeJcyvd/TMFJS3V9b2NTd0FecWJcQnRYRFhQcGh9MAwf3oYAigA1BTm6xfmC3YOgHxAUAgp4OXjF+BNo3v4BLj70N196W7wwNvf3SvAA/Y+wb70tMT0+srastzC1OTM9NTc3OyispL6hrquzPgYe2kmE1mUnTrJSpnfTQ3noCdua67mbqlpoiRpASVJXdpYRdzeQNlGX81WX11elKSlKKWnKiuARomS+KHJSAhxHx/t316dbasvqSzJ6+9qKc+Mrc1NkBQVQvHykvixEiJkaQkhCODFj+FjYmL8fTMO/IwsQGxsqrK1NNdQVREXIOB4OKiiZLq3vYayvIWJfkywNwNSFo4dB/eTEJXr6xxaOb85N7c+MblS3zxYUdNT39CVm5UfExYRGkAP9KMF0vyCfCFowb60UB9QCi3U1y8U9j60QE9vRFCIsvzo3v4Ay8/T1w8YuXn5u3r6uXj5OXn4Orv7Orp5O7j4u/kkRcTnpudkpOWkpWRlpucWFJRDuXTQlHSW57LRJHsYigZaSMXaSgfaa6YEuSd623gbqXpYGHhYGwV7OoR5mPk6mhmoyqjJSwX6eiRG0Y01laXFhLSU5DITaGX58dubS2szveeX5nMykrNSEwoTwsoS6YpSYjA/utoaJ4b7pET50VwsJUQEebi5oKtA0hPNB1FYmBkXGepgZ29nYmisImuto5QU6tNcVbY2O3V9a5UBSP2+nUniRbvbOc/PLE1Onu/pm6pvGqiq7kiJSwqm0fy9fCD8vL0DfHzpPjTgFUzzh5YqjAZmBBYOtQ+BFXykLDrIysff34vm7+lLc/OiuXr6unj4Orn5OLp6Ojh7u7jTfQNDQ2IrK1qLcotzs/KgBclIz8nLLYLfpYFlcZNH+ZjLBtmpR7voJnrqFoTY5Ef5hnvZOerJ2RkoWxuqeztZu9kYmespG2irFmTEZiZF5qbHJEX4eDpaRPjYZsT4ttfmdXa2jI10j/c1pifHpCXHF+XnpEQEpYd6RHrapMUGFmbF1ZRkFeVmxEVHRkdHFBYWQCvYW1+ck54ENrcwfW5hZmJubGCorba7PKuvLG2ip26ko3a4rYoBKsFR04HcL2diYvL1CGhtHe7tm21q6Q8PCqV5ePp5egZ4eQfR/MIDgiIDQ8LBqmCmCQ6BPbwSEQC2RYc0hFIIRh7sGxDkGxAI4RMAvPw8fGnuXjQ3hJePqycNXJ8eFhIUFRocWVJcW5hdVJBTmJOTn5WVn5tb5G6kYyvEHKxDDLKQCbWQjraVyafJp3hoRTjp+5ipaUgTNaWIyhIkPWVpSz0VB2uTlrrSsrz0nsbygZbq5rKspJiQuHB/YFdXkdfVWpOfn1+cEVNekEz3dW5vbW6orSuIDRlvqyiO8Epx0k5yN2quLpoaG5ycmpyZnZ+cnJ4daBpqq68tzu+pLR5rLZnrrpjvqxitje8tCOuqyuxpKOyszmE4deo09KxHIyRy342NjV1GSo5OC0+PTy3MyivKKSjNKy4vqqguqaouhaioKIR3mJ0UGRsdHAZOHx4I7ILA40OgdfAPDPELDKLRg2gBdIQXkowBiMRAm34BwDEgJDQ4KjgoKigwPDYyKS81Oz8rD3jl5hRlZuWr4zmNCawBemS6qWigsSDdlBJvTY63Ekm2odIMxbXlCEqSJC05EWNNeQ8nm5aawpG+lonBrrmR7otbK9f3N87PjDXVlOalx3U2VdWU5VcWZJblpyVE+DvbGvl42vcP9G/s7K5ubk/NzZ8b6D5XndGWQmuI91qYGFjf2Lpx49bCxOC53ua6nITK5JCqzIie2pyJzvKxruqW0pSG/KiazLDWkkSG390a0qghvdrRzchTp1DcfFGhsWsrewuza0uzK8vzq/NTi+NDk12tva0NXc1VrVUF1dUFlU0V9V3NnRA5CSmedraBYPN+wYG0oCBA5kuHdIM9En5BgQEhQfTQEHp4GD0iiB5Op4cGB0ZmJmbmZebnZuYXFpT5uXtIs52xFOHx1SY5KnM4KbO7KDNGq/1PrqNUlptqqq2Ms4mKOJ5PX1HU38upra4wLzN+YqB1vK9tcrj7/p2rP//+/uvXz+dXdl4+ffz2zdu/YSr/+vXw2oX5qZHwYJ/gIJ/G5vqp2bnp+YXN3f179x99/PDpw8fPm8urfaVJF/Y2Dw/vbS9PD3Y1j3a3TPS1zE8O9LVWVefGFcf5VKb4V6UHQbTkRzIgdyPPnmX8fSfyd4d7ClmKIC4qtbN5+dG9Z08fvnj/+t3nj5+fPH5x/eqdqwfXrl2+9vjB47ev3nx49/H9m/c3Ll3Ji4nxtzJ1MdajedBAOyGBEUH+YcH+oSH+IaGB4RBhgREQ8HowPTwoIJTuFxLoH5wYm1ZT11OYV15WWu1mbqaG4nKQQtF0CR7KzB5KTN7yx8s1/r9+b9FWH8mSUCc5DK8TCePrbldblNreUDbU3TTQ3VhVnFZckPbq5aO/f3z78f3ri2vbXz59hBET4scPIPb3q1evm1oae/p6zk3PLK+uX7t5+/Wbt1+/fvv750/4mq/fvi+ODa3PDl66sHFhb318sHtxrOdcT21zWWZ9QVJNbnxhUmBlenBRIq02I6gpJ4SBnY2NBeltARnj0c1bBNbvu+C6GvpTQwuvXrwFKH9///7r58/v3398/fr13Zu3r1+8+vLx0zf4bV+/Lk/OZEdGJfp4RtiZ+tiYJobHJkTEpydl5WWXZ2cUxUUnh4fGhAVHhQZFBgOsgLBA/5AAWmCAb1CAT2BmRklT80B9bXNRXlFJWlJXRV53TSmc3rGe9q7coDRXzYwQt6xofzVxsrmMaGSg12BX3eRo98bc8FJ/eVttdkluyvnB1sf37oCyPn94e3Vp4vWLpzCOf/z44fGDB0tLix0dbSNjIwvL5y8cXH767PmXr99+/v3rvxM7/Pvy5aul0a65cwM7W8ujfR2Xdrcurp9fHu8fba9ur8itzosvTKSXptIrUvwbsoMYULw8yAVnVlbkDjgTE/PR4gMkMY+IiQgIBHgHXL9269fPv49+x+/494/v3z++fw+kvn7+PD04nBYckhsalOztkuzvFR0c4W1j625hVZBfBXNMd+doY11nXlZpdFRSSFAkGDzIKsA30M87wM8zAHI2P6+yuKhyYmR8bW4O5vWWmrqmivKxIo/JEvfmDO8QJ30dWXFvC620mODS7KS2yvzJntq54baJ3qbZkY79zcWDnZXbl3eu7py/vDjajyiurau5rig1trowZ3BwYHZhYXN7+/De/Q8fP4LW/vn1f9cOwtF8/vLl3r1748ODDVVF4yN99WUFW+cXXr54hWwvXz5/+vTW5Ysb8+fGu+qa8+PqM45g8XFzI8DY2ZmPVgkg6weQEers6aOVQSguLjMzx/q6zmtXriPLEv/+Te3ff//48eXzZ1DcTP9gQWxsRUJsS35mZ1Wxj5Ozs6mJg4FeeFBEcVFtY0NPb/fYYN9Ud8cIdFLJidlhwdF0aNS8/D3dfHw8fIP9QvLyKjtbuycGxvo7+od7R/oqUuJ9TL1sjUKczUpCXIaqUsY7qs911c7318301c0MtEx0N5zra1kbbdub6bu0MbsyO7S3ODqYE57o45IQFpAcG9rZ0XZ+Zfn8yuq1Gzdfvnz59dvXnz//n/VvyMn+ATwuH1w6Nz5aXpSfFh8zNtg1PtzfXlP29s2b92/ffXj/4eN7ECgS7969g6H1wuY6Ax7Lx8fDzcvFxfdbYizIcosjZExnYJo8khgPF7c0RURaQKy8sOzHjx///aV///gOcWlzs62qur20vLeyeLStIdjN2c7IwEZPy8fZLS0NKl15SWFtTUVre8tAT/dYZ+dYdU17ZnpRWEicj2eAm5OHu7NnSGBYfn5Jf0ffaP9IT2uHurS0p4U+1Pim3Kie4tiuwriBypSdyY6dqa7VyZ7F4abV8fb1ic7FoZbVycHNhfGd85PTPXWVkV7ZiRG1FYXzCwsrm1vLa+uHDx58+vTp/YcPnz99/PXPr99v+tevX+8/vL91++b5pYWu9paMlCR9TTUfV7u2hsrFucn0uMgbVw9evXz18sXLV89fvnj+4smjJ7dv3Npe3xzs7Wcg4LB4NB+MArw8PGhebpihkJU9zCxHa1KYziILzRDjhzlUkp8oKyA6Nb7w49v3/9CCCvTj26snTyb7hgebW8611I81ViX6+zga61tqaziZm8fFZaak5GWk5WdlFudmlxXmV5UW1xUV1eRklyXGZwb6RzhY29tZ2nm5eYSHRDXUtcyem3WD7llXpTYzor+moK82v7skYbTQv68kZLg8crwmcbwybme27/ziubmZ4Y6myv6msunuyq7ixJLMuPzshOHhvvXNzY2dvas377x68+7ps2dv37559/49AELe7T//gG08fPBgY31toK+3rKjA1cFekEwWIxOtjbRLi3POz05UFheM9rY9uHf/4YOHD+8/uHXj5t7OztzsXHdHR0tDE8DCwMREwKExKBQgw6FRfNxc7GysIDHIx9+XNY7WxZ5iY2VTERc31zSZm1579+b9P8i5+ufH1y+f379bmVrorW2c6mwdqa9oyMpwMNC11FKz09eLjUhKjE1Pik9PTMxMTsyASEzISEnMjI9LBf/ydPXQVteUkZC2NrcOogVHhkanJiQG2BpUpQaNtNXNtuYvtaYO16bP1KUudpaMVSVP1CSvtGVtdGTudqXN1EadK49uifWoDzbPdVLNDHQc6OvY2dk8uHwFGH379h2kBBvk1I8f349O6683b99curQ/PjpcX1MdGRIkQ5WC44UDlRYWsDXWLi/LX1mYHOzpKUmLuXn12q0b4FeXNtbXpyen+vv6WpubWpubGUh4rAA/TpBEIOCxeCwGBIZFAzUeDjYWJCVZmBFqjIz/a/mn5cUkQt39muq6b9+8/w3O1KdP3z59urxzsbGkqqOkaKKpZryl2UFL1VJTxU5HG5q1mLCEmHDYx0WHx0SHR0eGRAbDcOnh7ePmaaynp62uoSCroK6samVo7ONoExvskxLiP9XbMtFcNNVdN9nXPlhXOt1U5mGs1ZIV2xvv3hxh15oZcm6gPSw8UooqA8KXECQGWamV5WcM9Hc31lbUVFc8e/bkt5RgD6764f27L1+/PHhwODsz2dpYn5GUYKyry8XBDrWfhYUFrFpJUsjJXK+0JGdlYWppbjo2LHB+enpzfXNteXV+Zm5kaKins6O9ubmtpZmBTMALChAESfzCFAEyiR+HQQMvHAaFRvFwc7BzcbCxsyLUoLNAltqdPgO8+Lh4nE2tUuJz11Z2Xzx9/v7160d37vY0ttXn5Q821MfQAy1V5O3VVVzMzSNDY6KCo6KCI8IDQ0MDgoP96DA8+nl4ebu4OlhamOjpGesZ6msbWBiY2Btbulsb+7k51Rfn9tcV1RZmdNSV9TWWD9UVTLVUGCrLmZpauDi7+Xt7ZGdlaqmq4tA8nGysFCK/j6tTJN3H0dZSRkKcH4tVUpCHQ/vyFXH0b9++gT8/efJoa3O9t6u9OD/Xw8lOWIAE5nL6aI0W9Esc7GzKkkI2RtoVpQWrR7CyUxPqaqpHR0enp6bOjY+PDA12d3e2tTZDMBBxGCEBvJAAQZhMFKGQgR0RuTrEiUbx8nFz8nCyc3GyQyfGzsqMrGRE/AtZnMjExCIjTg2mhba3Dl3YvfTk3v2p/sHa3Dw3SytVqqS8IBlguZqaRIdFRQRFhPoHB9MCArz9/L18aZ6+ft6+Qb40PzcPZxtbLVU1Q21tuod7WFC0r52lp61VWqh/RoRfcpR/RkJIZmJ4RXZcIt1RAMMJb4adhVFSXERJRkbkzEkUBzMWhZKVEtNTViJiMRR4u5ycyPJRDo76mpI3b16/f//u9auX165dgbyrKC2KDg8M9HHC4bCMR1nyu/uGw2FhPCsvRrE21auuKF5fmgFYdTUVGanJAwP9/b29o4Cqr6e7qwNOQFtrKwMWxUsm4MQFSSIUkpiggAiFKAQpicPwcHORcGg+Xm54kxDwTjnYWJFzcrQdGf8ZATwxIih6sP/c3s6lgpRMHwtTbXFhGSIew8mB5WAXJfCry8sZaGqYGRjYmpo7WFq62to429q62tr6Ojo5Wdk42droaGjqaan7Obv4eQU4GBo4GunbaigIo/mkhAhy4hRVaRFNBXETFTExPA+ZH03E8FD4cVhuLi7G01zMZwl4nIKMBJaPVwCHdbE0NNbVsNBTI+DwBTlpt25cv3v39sLcTH1NRVJ0mJujlaWpzvx4O5ksgJA6eepotkMuvUNPqSguZG9l1lxXsbY0szA90d3ZmpWV3tbS1Nne2g+kujt7utv7+zp7OloZ0JB0aF4BAlaITARYkiKC4kIUUTKJgMVgUXz8OBQvFzuKhwvNy8XNwcrFDrwYfy8yRBa/njyNw+CjIpPiA0Jc9bVdzfVlxARRUDiZmbhYmME8udjYoFhAKkMTx83Jxc3JycvJAdlNwqJFSQQiHofHYBRlZD2tLK0M9NWkJFVgyCLiSSgUAYtCc3Pwwm9kYxHB8BJ5OEi8HDguNjQHCw8LIzczI4adGVSvJE+Fn4lH81rpKEf7OnjZmUuIiOUlRY719zTVViXGRLjaWdiYaNG97OLDfbdWp5WUFJFm6H9X7B4/cYKdlVVbXsrR3rano35jeW5ucqy3u626ogSysqq0oL62AuyqvxdItfR3tjBIiAmBO0ERJPPjRAXJVFFhqpiQFIJMgB+LAt0RsGgAiuHj4uPmQHixsSNrWo8CztKJ4yeZmVkNlZW8rI0YT585efw4G+NZHjZWPC83lpMNzc7Ky8bCw84CxwwWI0jAGipJEzF8jEd3oOD9AkQFGSkrE6N4Oq0yP09FXARBzMoMGcXHzoLn4sBxs5HQPCQ+bjIfFz83O46TnZ+HA8vOQuRmZ2c6C6eZQsTD6YS+WohCpoqJ25qZZMaFxof7u9hZGOso+7lZJoR7ZSQEpScEtTUUpafGMjIyHTkvsngZ5hZ5cUFVeWl/mvfIQMfG8vz0+PDQQHdxUX5eVnJGYgxESU56S31Na311Y00Fg6G+gZKCNOQbVEMhCokqJqIgJa4sLSEvKSJOIfFj+OAkgynwcXFg+XgwvFxwPsHvf4vrDCKuU8ilsOMnMCgMclXsr2OMp0/xsrMKYHgpOJQAhocIB8nLCUeI5mBFc7LCU242lrPwZo8dO3HsL1ZmZn4sxs5YvzQ5trKkRILIz8p4hpeFCcXGDN9CRnELYXmEsLxkFBcJw4Pn48bxcvHzcaI4WUk8HLxszGzMjDISglQxQUVpSTV5qpOlUYCno62Zjp6Gop6qTGq4V3K0f2ZyeG5GbHpiWE5KVG9nY2x8LFVamkQkyUpJmuqoachLqqsoxsSET431r52fPTfSPzrU29xQW1uRC4NnQVZSbnpCSX5GaUFuWVE+g7c33dHJRVlRBotBEQn8okLwu4WBlwpVXE5CFBITGBEwGBIOQHFQ8CgC6JCT42geQpz+7NFap98fHzlx4iTAAjMDHVGwPOICWCoFJ07EiBIwFCwvgCOhuQEWnhuOlp2HjYWDiRFEJIDF6CnJOxobmWuqYrnYuFmYcEcshDE8whheSX6ULAUrTUaTUMhZYmVi5ONkw/JwgtAksLzwQ3g52dXlRAw1lcz0tcwNdSwMNE31VA21lG0NlGuygtLiAjOTwguzE/LSY6pLMnvrs1srszKTInzdXRysLIx0NdUVZfR0dQryMhZnRlcXp8aGescGukeG+koL0kvzU2tKsxsrC0qyEvPSYooyExhKy6tTU5NNjI3l5ag4LJZMJEiLiSKXq6UlFKlisuLCYhQimKgQCYdH8UCQcHxAjZeLkxH58ALS4585dRpZ6f8nstYfVAaVBlmuR8LJChEVxASUJQQUxUmSFIykAEachBbE8pHRfALgkigeATSPED9aRogoSeEno3nwnKwEHnZBNKcEEUUVwMiQsYBJURivIEKQE+EHeVKwfBQMjyAWgouEguRmhZrDwcosTEDb6cpb6igZqMtbaMkFOJpEBHj6e7vWFibmp0WmxYfkZcbXlqaPthY0VxUUpCUmRof7uDs72dvBoKOpJGtrZ11fW7ayOAkd/Eh/Z29701B/z1Bfe1leSl56NDDKS40pSo8pz0pgqKytsbcxhqyytbUVFxOGvhTaLhlxYQVJMTVpcRVZMTUZYXEKkYTlkyATQGYUfowoCcOP+D6ygpgZ+RAY0+lTp48+NoKsuwY/4GFnEyHiFMTISlJCmnLiGrJCgExehCAvTJAU4BcjYOUFiaJEjLQAhkrGSVP4pck4GSGCJAktTUbJCWNVJUmKovxq4iRlUYKKOElJnKRKFQRtUgXha/BSJIwECSvMjxLiR4kQ+CTghwhg5ARxiiIEbTlBG115mot1XmJITmp8aWZMTXFqUXZCVkpUZ1NZQ0lqe2sNKCUmyM/f19fR1kZbRVFTVcE/wLe7q2ljZX5+cri/q7m+qriuvHC4p623ubK+OK2hJKu2IK0yO8nLxZkhMSlOX1ftj3/9wcHJ62BnJ0gmYTAoYTJJTkpUiSqmRBXVlBVTpYqS+TFUIYKMCFEcjk2IKCdGEcCh2VmYkbmICfk0ze8FF6dOnIBOH7wc6p2MqKC2vIy2orSGvLimvJiyJEVFSkhRUhD2alRhWWGiDIVfVpAoI0gADWpIUbRlhbRlyDrSZD1FcVUJkq6csJ6siAZVUEtWWFdJnErGKwrh1cUIsoJ4GQoW0EsLEaSF+SXIGBF+HgkCnywZJYrj0ZYiOhhr5EZ5VmWEZcT5t1Rl1Zem5aZGttQUNNcU9fe2NtWVJsRF+Hq5mZsYqMtJ62lrZqQnTYwN7Kwvzo71dbfWZcQFl2cnNpSkV2dFN5amN5fnlmUk2BjpKVKlGBITojW1VAHW//zPvyQlZY2NDfA4DAEqI0VARlRITVpCS0FaW15cVVpUTlzQSltWGY5WWkRXXlxHURLLCx0Ycp+XhYnpNPKZiL9OIDXuBCszEwznVFGKtqIcjDM6StI6SlIa8lJq8pIaStJaYBMq8qrS4qpUMU0Z6CplzbSUdJUkDVQkjZSl9ORFjJTFNKUFzFTFjZQldOVF9ZXEzbTkLRWFqUReyHloj6X4UdKCeAUpQVlRkry4AFUQL0bGAkGAJUnkcdaXDXU0zAt3qc4MbCuJ7G4uryxIKc9JbKspqCvPjgyjhQd42IJfqSmpyEra2VnX1VasLM3srC9NDnc3lOeWxPuUpgTlxfhVZERVZESHeDqb6WgZqCkL4PAMWdlppiYG/wJYyMc+/jQ2NpWVkcSg+aCVlxQmK0iIKkuLaciKAS99ZWkLPSV9ZaqesoyGrLi2vASMoNAxc3LAHMkC5vX740gAC5ITj0FBLqvIUnVUlYw0VI00FLWUZNWVZLVUFfU1VYy1Ncx0NA1VFbQUZS0MtNMTo9ztLMx1lE21FIxUpcw1pAyVRS21pM01ZHWgKdWUtzJQNVIUA8H+XgJDQXMrChOgZVWTFlKhCqnJCitKkFQkScriJGkBlIOmSLCdVhrNrDTRq6Uio6kiraOuuKulOjY8ICMlJoTuaWdhoK+pqCYjpqYoFx4R2tfXubO1vL02P9bfXpYSnOJnGeJm6WppqKsE6uenCuDN5UXtZPndlQQZBkeGwiNDkVXRf/4FvZqkrJKrsyOJAIMBCloYqqiQgoSwpqy4vqKkhZaioYq0lZ6ymqwkHICOopSajCg0YmBfXOzsLEyM0OQh4jpxAkokBsUrIyGqKCMFJ9BcW8NSW8VYR11TVdFQRwMe6KspWhnpGmiqgsosDXTc7W0i6D5utsY2xhoWusrOxipWOrJ2xqqm2oomWopmuioW+qrg3wJo7rNnkQshEngeSE8VOFpEmJLaCqKmOrJ0Z11rLSlHHUknXcmEQIfcMLvy1MDqgviK1IC8COdkZy0nA2Vbc119NVkdRQklSYoYEW1mZlJYlDs9NXZxf2N9abqzvhKchyrAr0TBawvj7WVIdFWhUC0RmrY0zVDR1VCdYWtvJzk7gweFFZdTD4rL6OwfSUvP0FBThqMl4LDSosLyEiIqUuI68hLmajKm6nJGajL6KjKGanKgLx1FqjAJNARFDVnsDz0qwAJlIddXebmFyQTob/U1VaGNsjHSNdXX0lFXMoG5WV1JV11JR11BW0XOUl/L09ba2cLc097c1crYzljTxlDV1Vzd3kDR3kTDylDdykDd2gh5YGmoZqypICcmqCktoi0toiApaKYlZ2OgbK6rAmdOT1nKVk/eUV860lmdbq2Y5G+eEmqbFuGUGuWdEWwd7G2amBSalRRnrq2orSShrSCiLISFtPCn05pb6lZW5i9f2l6eG08J9dcXI9pSiY6yAq4KgjRtqUAT5RAbnRRv05Y4u4kCb4bOwZHptd3MssbcovKMjGyIrJwCTy9PIgEo8JFBh6LgymLKUqJ6ipJ2esqACXhpKkibaimZqMrKilL4eHkE+TECeMxRJiI3t2Hj4eKEMVNMkKgkK2WqqwmiNtTVhAQ00dUw1dXQVpHXUVWA1pnmZBPqZetmbehqbeLhYO5ipW9nrG6rr2SpLeNkpmZloGZnqgNyQHgZqduYaNsaqllqyeopihkqicHeSJWqryrla60LrYOrtpSTMtlRlmAshrOWobjIUfx1ZSOdjdMiPXIywqIiveLD/J0M1NXE+LVEcRrCGBN9nbSM1JHRgQv7m9cOdmfGBkJdbSylSXZKIt5GSsG2OgnuJuURDm0ZtLFC38WW1IsrEwz5BWVp6TmxsYlR0XExsQnJ6TmZOflhEdFKSgp8SFuPFxemyImLKkmJqkmL6qnKmWoq2ugq66nIGihLG6nJa8iJQSYScSgpCj/MQ78N/jRyJZoTGloxCkFKhKxIFdVRUzLWA1iqHtbakb4OdDdbcx3VyAAazcXex8kmLcwtjOYU4e/k52zmYqXrZKRqqyfnYKJqaaDuYm3kbG3kaGFgZ6brbKlrpqMoIwzlmF9ejKwgRqEK8sNTBRGiqihRFMsHfayLsnCwuliILjXFVi3H17Qs2iU10CEpxNVaS87TwjDSzc5IWsBAFAsl2Mffu66xdnl5/sa1S1cvbg90d5bmZ6cGe7RlBix3Zw8VBNRF2q7UBd9YqN+f7dnbWLq0u8YQFRUfERkbGRkbG5eUlJyRkpGbkVuQmJrh6uKIRaNAXIIkAlVEENouFWlRdXkpa31VYw1FAxVZfVU5Iw3QPzggNBt80sJECh6NNPHHjrGcOQ1dvoQwRVIIxEWAxkNWUlhGQlhZVirSTTc3llYVbtseZ9MW556fHF4Q61sSapMf6RJNd/ZyNPGwNXQyVrXQlrXQVbTQU3GxNHCxMnS3NXa00DXTVVaUoBipyRqqSOkoScqLEiUE0KIEPhi5mc+cYTp9hu0sIzcrK5qDg8DNKYXlMxIhOSmIeSiJhxoqh+jJxzsapAfYhxjJeulIO1ub5uTnjIwNHVzaObxzbXNloSQvJysueLgqcW2gbHOwYr42pjHJa3aoZW6sb/P8zJOH9z68f88QHhodGREbHZOYkJCC/I9I0rLSs/OzcwsDAgIlJUR5ebgpBH5JESEpYYq6rISqtJiNPniHoq6ytLYS1VxHAd66OJmERqFkRCgSAvwwMx776y8WxrO83FziQmQRMj+0/gL8GEEiloRHyUuKJdLtI2l2hb5mHQnu5QmBNdkJrUXpQ5UZ0/UZtfHuPtaaLqbqdvpKevKiBmoydkbqPvbGfs7mdA9bcz01NWkxSwM1E005baqAuiSRguPhZmOGMRNm8tNQVU6cgvmc+ewZNiZGThZmTlZmLlYWFAcbTJf6UkRDabKRorinlUGUo2G6h0U23bEoLiApJLAoPaWrpbEgKToj3G+0qWCuMW2qPqOlKKW7pX5iaOBgb+vTh7ffvn158+bNndt3GUJDoyKi4mMAVnxyQnJqXFJKdExcgD/NxdnFQEeLh4ebgMVICFEQ55ISUZYURWBpKIK1G6rL66lIGarKQAlHo1EwUYoL4KEmHi0FPsbEyAhjOHi8kAA/CY+WlxKRFxOCYTPQ1TrYWac+O7K5OL2/pbKtMr+xOLOtPG+wpTqR5uCiqxDmZBDtaeZqoGCrr+hjb+DvaERzMnEBn5eX0lWm2mpI6coJSVFwjGfPIKsNjq5LnToKGLN+w4LCTMDyGWvJe5ipeBsrqIkRSHxcfOxswiSSq50N3VrXRkHSQ18pwtmM7mgXH0ArTYnMiQ5MC/NtyYurKkhvaW5eXpi+frD37s3rT58+v3v//unTZ5cvX5mfW2AICY0Mj4iJjk6Iio4PD40I8PN1trNSlqMKCQk72tnyIZfk+UQEyZLCgjJigvJiIpY6KtaIuJQMVOW0FKkGKtIw0OAwKBIBLydKhmEX6bb++gvON5lEgMlJTlKEgEPZmpvbGhuJChCD3WzdTXWy4iM6qvJbStIqs2IrUiMqkkMa00PjvKzdzDSDnU2SfG2i3EzNNaiOppq+tnp0V3M7E10jVRkXDaqDOpWI4UWWnh1dlDr6fP1pZsYzHKws4sICFgZqCUGODQXRozWJjZmBhRFuSf72sV6WMZ4Wflba9noqNmYGVoqiKhIiGnJUC00VLyvTZLprUZxvXJBPalw0WNZwb8etaxc/fnj//fv3T58+vXr16s6du1tbu5OTM719/QyBgSGhoZEhoRF0Pz9vdxcrYz1ZSZGTyOdaTvp4e2PQKCyaV5DILy4oALCUqaKOxmpOplD+5Y00FAzVZLUUJOGE49EoIh6vpSDBj+aFrvGPP/8ApyfgsYIUIiiLQsRZGBsR0WgCBm2oa6KvLOfn4VmRFtJWlNyUTm9Op/+f0r4zqq0za5cf801mkribXiTUJSQQQlTRQR0kkJBAVNGRAHUJNYQkeu8GDJhqXCjuJe5xGcdObCd2JnESJ04yk0kyfTLJZJL5ZubuQzLr3nXvn2+te9b28SsBWtLzPnvvZ5+z31dLXbqZtqaBltoqmUBTxPeqinRFvIqc1IZCvqlSZK6W1CtyZNlxUP2gggJ3I9X77r3ga36+jEhyoZjt0CiPTnfe2Dhwc3Py+saBK8enTh3sOT7uOjziWBuxz3bpD3h0M53GxQHLsLXWVl+sriyVCtg5aYn53NS68kKdum5iyHv53LG3Hz/85Pnz77777u/ffvunP/7pV5/+6snjt69fu3ny1Nm1I8cWFpd9Ghs1zU3ahrq6mspyeb6Ql8EKDvJDxPxP/qusooKAwwKzSDgM6IDoCGIigwpxRCnlQdiCdMZPSwQ3lLBTSLhwHAYN/ggFIzgI0vD1wguo0GAGPYKdlpDL54B2p1PI+/fuE2Rk5vO5lbK8KUvJpdHGU33VZ4ZUW/2qo511025Vp6XG21TarirQFKRXiVMsVXmuBmmvobjbAIqKGRYUCKouk8Uozmd7bU2nVoZvn565un7g1RNzN07MXV2fnu1vHXBo5ntaTh7suLbSdfNw52ubQ3c2Rm9uTF5e7V8/0L65MHp8YWxlbspu0Teqat2tlvmpgUtnj92/e+P5R+9/9/fvvv/uu6+++uqzzz57952n9+4/uHD+0sb61srK6uz8wvTMrI9Kpa6vU9VWV1dXlJXIpVIxd/eulwAqqH7ypdJIWgQuHEXEYiJJBBoRFxcVwU6Oq5RyATJRFkvMSRVlJoFSJSPLQ9GAFQWHDvSFZIi0aIaFhoqE7MpSWZO6USQUxERHBfv5CRPji8U5umrliF6xqM9ZdVeteGtWvcpVT9WhtsplT/Vcu3raq/E2FQJSI21Ni+OeEY/GUiNv15UvD9vPLXaenO8+vdx/fWP02sbEmaX+C0t95w92HhltPTfrfmXBe2+z9/HZoSfnJx6fn3x4furm1tTJxfGNhen1hak+j9uubxrq7dg8dvja5bPH1+ZPbKzcu3P9i9/86leffPjXr/4CEeqLL7587+l7r99/49rVG6dPnT26TajZ2fmpqemxsQmfhobGhnq1WqU2GbVOq1mnqfH13f2T7f0BuHxhLJOJRaNIeASsKDIecmJqXEydjC/jp1cWiuorQG8jsp6IQaNQIenMiEhiOFL47HgZ3CSZlQyTUF9fp66vF+cIcwV8bGhIPIUMFbzNZJxuKZ2u54w35m101Wz11W32q04ONpwfqj872gyDMyMN6/2Na326uV7r1mTrxqj1xKh5obdlYcA15TEc7jcf7dcd79OfHzXfPui8MeO8dKj97kb/o82uBycG7mxOnF+b3Fw6sDQ9PtDZ3qrXWBrrbc0NPR7z8vzYa7cuPH374YfPnv7hj3/4/h/I8fe/f/fXr/765Rdfvv/+B2+88eD6jVfPnbuwsbG5urp2aH5hZnp2cmJqdHRsYGDQR9UAQDVpdcaRkbEja0urawuUCDRUisCs9Cx2Unw8PvzHu7BRFGIMlZwcE1maky5ITyrM5SjEHH5aHKjTCAIWHCQthkwMDw3299358kt+vr7KstJGtbastLyutlYukQj5PBqZSMKEF0vEDrv9QKtqRs1d71OdnzSeHNGdHNGfOdByctyyPmI9Pe26fMh9faX79uGuG7PWqzOma9Omy5OGqzPmK9PmK5Omi2OGs+Om08OmrWHTsQHzap/lULdhsk0z1KpxG+rt2oYWjbrdaRnoaF2YHl4/PLc0N7a2NH37+sXPPv3oH//4/j+9B//8DqL4V18BTM8+ePbmg0c3X711/sLFra2ttbUjS4vLc7Nz0wemJ0bHR4ZGBvr6e3t6fNTArAaVTmceGZ/7xd277z59Ym5R7di5A2JWBgJWHAmHJeIwFAKOSkJu/yTHRBUJUqXclJxMljgb0VmC1NhI4F44KiYCh0cH792D3F5MTkkz6E3VVXW11TWgQhRFRTl8fjQtIjwsVJ4vUpUU9GhLD1oroJhYH2heHTQdGbGtT7o3prwnFgZOLo5sLo6dXD1w4vD0mfVD506snju5ur42u3V88fiR+ZWFqYnBji6nyaart2rB6lymxnaHYWp8EJi0MDV46fSRt9649fjhL65dOX/z2kUQ6H/43Rf/ZxfNv/75r++///7rr/76+edfAEyPHj66fevOKxcvndo6CX63tLQyP3doZmpmcmIS2SlwcGigr6+ns6vN7vBpamyuq61XqRs7uoY3T1/77PMv3nz8UCbj/eS/fsrlCZgQoklEAiacjMNSCHgGlZwaSy8SpBXlZoKAkAvSctMTuCwmQInFoJg0XFiQPyAVG8e0WK3tnUN2e5tOoy1WKMRikYDHjaSSwkOCJXlie3lqW2n8IWvNcFPxbF/r7bu3H7z5xhsPX7v3+u379+/cv3/70aP7T5688cYbt16//+rt21du3r589szxK1fOnL+4tbGxsro8PTHU2eUwDHXal2YGL55cuXX93Ot3r9y7c/nercuv3331l0/e+uxXn3z77d/+N0D/OQC1b77++rdffPHhBx+8+fBNgOnKpStnTp3ZOLZ+eGV1YX5hdubg1OTk+CgC02BfX19XT2e719FiHunv8NHoDPX1DTU1ddpmTV//5Onzr777/nsXr1+NT0oqKJBFR1JBwZNx4STQAUQcg0piMSJLhOkF3NRCYUZeViInmclPiaMSIQ2E4DEhUEsDbA2qxo7Oro7uPmerx2g0AFg8LieOySBg0ft2I7eEImk0KZ87KE2aadOcOrH2xqPX3v/glx8+e+fjTz744Nk7733w9rOP3vvww6fvPn385O1Hb7/95uPHj167e/POnRtXLp44f/roxQtbl85tvXrt4vXrV95++/Gvf/3p55/96quvfuyW+X8OZJnZv7Zh+hpg+vK3zz/86PGbb/3i9p2rl6+ePX124/j62ura8sLS3MHZ6QNTk2NjY8PDQwP9Az29/V3dbofDYTEszI0/fnQXFLypubGxvqYWIGtq1vZ0jx7fOPfR8+eLWyeNel1UBJmMx4GPRQBkeFwUmZAUTVXkpJfkZkCMBwHBZcVwk+hQHoaFBO7dvRtEbIWysqu7e2xstLe3z+l06XQ6uVyempICsKOCA/ft2bl758s7X97RUCoflCctTgyc2Dh24ezp65df+cWtm6/fu/vw9ftvv/Xo/Xd/+f5773784bOPn3/0/MNnX/zm899++eWf/vQnEIoQj7+Ff9//GHr+Jwc4HWQ6BKbnH7/9+O17d+9dv3r93NlzJza2jqwdWV5cPjQ7Pzs9Mz05MTE6Mjo4MNTfO9jb0+31Wg36Tpft9ObKs/ee3Llx3ceoN0A6rKupqq2thv/VDQ0ue9v01ML6mYtavZZGIULVQsJjKXgsSFMAKzaKIs5KErOTIWaxWcysRDobCn906F5kZ869UmlBR1cvzE1/f5+7rc1gMJSWlPA4HHokDbJqINIDsAe5qLpzVxIzulvC+PXzj+Dzf//9d//93/8AXvwTaSpE2gp/JMP/9/EPiE1ff/373/3+k48/ffeX77xx//WbN25evHDh5NbJ40eOriwvL8whMM1MHpgcHZkYHhod7EMa87u63HaHsVk9Mdx99/bVj5+9e/bEya6OQR+FTCbkcvJzhXWV5bXVSlUtcjQ3Net0xtLiQhqZRCUTyHgsGRIiHgcCIplBLeAkgQ9KOclZCVFZidFArP0gF3btTE9La/O0jyPTMwx+3mIxq1UqUW4OkwH1EArZD2XPLj9kK5DdeByutiDHLk785OPnn37y6SefgFr+9Wefff7555Cafve73//xD3/8858R3fO3b/727bcIkb4DJ/oBzX/9D6Dcbuf87q9//ep3v/3tpx9/8vSddx++8eDWzVuXLr5y+uSpjePH11ZWFpHwNHNw2+/Gh4dGBgeG+/oGe3p6vd4WvdbjsKwtzT547dWnjx8szy95PT1trg4fhSRHKcstyhOCVlQWFtQoy+trq6qUFTqdJpWVQCYQQDRAtEIMmEUhJkRF5GXEKoSpOemx7ARqagwFhwresWMHIzpag+iP0YmJsY52r6vVrtFqCuQFCfFxWEx4cGDA/r17/fbt9ffdCwTcs3evVpLaVp0LWaazvaOzHSJcZ29XT39vPyTp4YGh8eGxybGJ6cmZuYNziwvLR48eP3Hq7KXL1+/de/Dso+d/+OMfoXb7v3bi/A9G3//tm2/+/Oc/f/nF5x8/f/7uO+8+ePDg1q1bly5dOnv69Ob6+tHDSLPVwuzsQYRNo+ODA6MDfYO9XcCmgc4Or9NhaW4c6m+/cOb4o3u37167PDww1tbW0er0ut2dPkZNHTud5e/vH4Ts4eXPy8qsLC2uLCtpbm6IplFJRDzCLAI2goi0cUWS8VAhFrDjpVnxnMSoxEhcBA61a9cOIh7f2Kzv7+ufm53u7PDY7aA6DUpleUoKi0ImhQQjrXGoAN/tjod9/n6+RfwUVw7eqVXazQa7GWn7thq1VrPRbjE6LCZ7i9Fhs7TarW6ns93j7u7qHBgcHJ+cnJtfOHp848KlK6+9/uC9D55B4v/LX/7y9TfffPM3yG9fw/gPv//9b37zG8Do/afvPXnrrdfv37958+alS6+cOXN6a3Pz+JEjq0tLi3Nzc9NTU+Nj40NDI/3gdF19nd5uj6vN1mLRNjst+uWFqdd+cf3ha6+eOHLY09Zhs7XZbK1trnYwn56+3gaVkkYhvIi0LLzku98XhCiEMCGPTaWQaBQSSAcyAaI7oksZVGJsJFnOSchLj2HRiRRM6L69UNDuL5AXOpyu2YMzgwPdVovJoNM0NNTxeRwaLQIdFhocFBQe5M9nRDAoeAw6BKS/mUc05Me5LFq7SQ9IIWCZDFazyYYgZXZYW1oddrfL1e71dHV29vb1DQ2PAFizs4cWl1ePrm+eOXfh6o1XX3v99beePHnnnXeePn36HhxPn/7y7SePHj28f+/e3du3r1+/9sorF8+ePnViY/340bXVleWl+bn5manpibGJ4cGR/t6h7q7+zvYuT5sXZkbb1KJVD/Z4Ll08Bfr++itnurwdtpZWq9lhsTis1labtdXp9PiYNWp3u6e8VBoSFPDCz36+Y+fOWCa9uroqGtJ7BIUeSYkgE6BOJmLDIWBRSfg4GpnHiuKzaHFUHDuJGUXAMhkM8Li+3t7VlUVgts1qaaivLSqSJ8THosLCAgID8SiUKC4qjh6Vy2P3uvR2dXEVM1BbkO60IEueWow6QMpmNsH7csKbApiQ65DuDkCqo6O7q7u3t39ocHhkdGxi8sDMzOyhhaWVw0eOb2ydOnP2wisXr1y5cu3atRvXr9+A/65cuYT0650DjE6d2NpcP378yOHDK0tLC/OHDs7MHJiYHB0aQ0I4wARscre32u0GnblJ5bGbj63MPH58/+P3Hm+sLNlbHGazDd5LS8sPE+ey2xDzadE2m5pqe4d6aqtLIiPI6WnpGr0pNTmZSiGTiQQqGbIhnoANx2GQJl0aCZ8QSWJS8DEkTFZ8tEOlzM9kxcfG1Cgr+nu6ZmcObKwf6Wj3NKpVWZnpGBD1ISGsSJI0nkwnEnKy0vqculZbs6FBUckMUEvSENczam0mvd1iclpbXAhMDm9bW7vH09He3tXZ0dkJIa27B+Dq7QPdMzg0PDo6OgmQTR+cmzu0uLR8ePXw0SNHjx87trmxvrW5Aba5fmz92NqxtcNrq0sri4cW52fnD04hMI1AputHnK6rvafd3dFqd5oN5uZGl0k3Mdh98/rZj589efPW1cHuXoPBajC2GE0I0Y1G5DJyi8VpMdssFptPenK6VdfUajO4Oxwqrc7h7eGxOXQalU6LAFoBlYh4DAWLzqQRU5lRrGgacsUykZFMp+qVxfX5fEVqbCk7uZCb2VAsG+3vnp8an5kYrq2uSEmMz01mKrNSFdlJGXExSnmeRVdv0tSZ9LXaOlltfEBTQeY2TEaH1dwKgcFh97icHkDKjXCq0+vt9HZsH51ggFtXZ1dvd29fb9/QwMDI8PDY6NiByYnZqen52YOLh+aWFw+tLi2sLC+sLh0CObA4fxA87uCBienx0cmR4ZHtEN7b4UWczgkwGUFbAkv6O9u2ji48vH/j2aP7p5cWzAZLc5MOubqnNxvBDC0AllHfYjRYTSabtcXuk8PjV5SWDoKA9HTqLa0CLi+GHgUCkhFFpQPTCHjQ5oEBfgQMWpaeaMtLkWQmZCcn5GWnuFsMagk7lRyez4pWC9MtEo5Wxuu1ar06lUOa3ZrLkjApwkictVjY2lilripprFI015QYmqtM6uK6uKDmIg4g5bSZ2+wtbkAKOOVy/QiW293u9njbPF63x+PxetxuoJt3+3kAsbujo6+7awBQ6+8bGxqcGB2eGh85ODl2cGp8dhrgGzs4OTo1NjQxPIBQqb9noLuzt8PT5XEBTA4zIsENjWqPw7p6aObOq5fee/LGK+vrDqPF6/WaDCadVq/R6bVag9nYYtCb9XqLVmMyGGBsMRutPp5WuxEAbLFUVlSlsljM6ChGFC2BGR0TTaPTkIAVGhSICg2GegZckkXG0sICSSF+TPgRkUgNC0gnhceQSHlxNAMvoSaNqWRRJTEEUTROFk8pTiAoWBHFXJYkM16YFl+cy22skGkayu2aCl0qylLKbbVZ2hwtnlab1+X0trV621wIKG0AmQuyk7vVBeZxtkLB0eZ0uJ0Oj9MJv9nR1tYJKbLDCzVbf1f7YG/3SF/36EDv6FDfyEDvUG/n+Ej/UE8n5LieDg+kuXaXw+1ocVoMZl2juVntshgOjPZeuXTi3V8+vH/t6mRnX025srpCWV9dq4YaRq1uamzSNDUbdUaL0aLXGgEmu63VCI+MLT7VVcrSIjkvOzMpNjaOEZ3AZIDFxUQBraIgHRJwJByWSiJA2CKT8KEBflCw7Nv14+6+IEVpqOAMOg3tt5+OCsymYpMwgSxsoICOrc5marg0RQajKJspSY3iJVBF6QlVRXlGdZVLpzRlYk1lArfDClPldTkQsMAHWxEDuQCRCwByObaDqq3FZbe22luc2wM3mMMGfwUQdLqdXZ7WLq+rp93V0+HuhZjd3jbQ2zHY09HT3ga/4IFXsFrA2UETmDWNNqN2pK/j7Mkjjx/efe+tR4ujk7VlFaDJi6UFZYVFlWVlNRXKuurquqpqVUNDs7pJ26TRaXRAN4vFatKbDUaLT0pCfGpSQkpiHFhyQmx8DIMRFUmPpIJooFPJNDIRykMC0h4firTMQPm38+WXkA2QkW6sn77w0327dgbv2xu0d7f/7p1h+3elkFF58aS67KjusixXPr2vMtlRnFKRm1IsSFbkZJdJBUZ1dUez3JAYYCjhtzmRj+0Gc4I5IGy1wSTabU671WW1Oq0WJ8gIxEyQAbbPiBBzQoyzWkAWuWxmoAyYx2nzblun2zHS39XpbgWYWlvMdqPepGnSN6qsBm2P17m2PHPvzrV3Hz/cXF6qKy0X83l5PJ5YyC8Q5+bn5hRK8mrKKgCy8uKSmkolUizX1jepGjVNWvBNcE54MZ+keGZSfGxSLCOOQQcHjKJGRFIAIxKFgIeqEDhFhESIAl8MCAFBuXvnDuT2PLJHLQC2vcfvzj07dxLDgpGWUd+9NHRgdjRWxSHbJVRvcYI6P8VaJWlRldZWlNRWlNeXK4xNNT3aQhMryFgibNv+hG4wh60N6AN6xtrigPSDmNEGQcJkQLTFtln0PyzuRM5Wg85m1FtNOptZ77AYWltMYK4WY1+nG+gG2MFD4JFF12TRNbe32VYOHbh57cKDezfPba6bauuFGamCzDReeho3PVXIzgK8JDk8mThHIS0oLyoslkkri4trKyrqq6trq6qb1M1NKrWmSWPUGXySwOkY0cAmwIiIbC2LISCqCkMIR0Ppiw1H/7DVNjokyH8/cnEdoRWyXv+nL/zsBRggPcsvI0+G+O3DBvkxwkMSiGGplMAKToQ8I6qQm1JfWV5fU1NVriyVy0pkErNO7VXnNScEa4uFLgeww2K3mgGXFpPBAuFBrzPr4ENqzRBXtU0mTaOxqdHQpAIDghgaVXoYNzYYNWqTttEEzqXXWBBBq7ebjR1u+0C3x9sKuLcAWHaz3u20zs+MXrty9uH929cunm/V63LSU7ISmdmsWHZyQhYLLFHEzc7hZuVys/OE/MI8sVySXywrqCgqqqooryovrVKWQ+3XUNugblA11jf4MEB6EokEHA4qOFRYaFhoSHhoCDo0OASoFOgfhuy6G4QOBQvYu+2BL76IdPghex9vtynBEDwT2e7ghRf27dlFCQuOwaGSyeg8pr8iI0LBTysRc8pkkrIiuUIqKZFL1NWltpL0CkaISso26ZqN4CbNjfomta5RpVMjplU1aFV1mvq6pvra5rqaprqa5voaGDTXVmtrkbGmvlajqtM11hma1WZ9sxU0rRlRal1eR6cLqNriddk62uwHp4bPn1m/dweE/PnetjYZOzMtNjI7kcFJZmYnxbATmNyURG4aS5iVys9KFXGypDmCYqm0MD9Pni8CcpUpCiuKi5QlJeVlJaraOvDKxroGnwgCBovcbUD2Sg0LCkT2u0e2v0f2vEQFB2BQIRh0KCYscD/yTQA/BwdEsEICFhz/BWHrhf9Q7KUXf/bSzxEL89sXSwyPxqETI9ACVoyUl14ozCwryCmT5SnyhGWyHE1+bBEtsIrPUtdWqquUDYhV1INBDf+DVZTVIVZaV17SoCyDhw2IlcJYrSyHP2mqqdQ0VAPXzHotFABuu6XDZe9yO9pbLT3tztmp4VObK9cunbp09tRYb08hn8+iR2TG0tiJ0WxWDOCVGR+dlRjDSYkXsdPEnHR+ZpqIkyHmcSRCQWGeSJ6Xq5DklRXKSouKykuKlGXF5aWl1UplbWWlT1gwsqeN//794GX+fvsDoDjctzcAQSoQiwrBoYMR/9u76+UfVyT8DOyH1QngkTtefnHHDji/BJzbs3vnnl3IqgHAy3f3Tgo6JCI8jBASlBVLy0qIFqQlgnoQZSfJhZmlnCghYZ8iLbqiWKYslFYUAu0LlPKCCphPmaRCLlXKpBUF0nIYywoq5QWVhTL4KXJFRCGvKy2uLy9VVVYAxYxaNdThHa3WvnbnYLdnfKBrdWHq0rnN6xdPb64tD7Z7ZQJeagwtnUlLYVAy4iJhkMoEyGKykxhgSO9UJis3KwVCGD8jNZeTlSfgAFIFIkGRRFwmk5bK5RWKwsrS0vpK0BZlCFiBfvuDA/2DAwNCgVn+vuUMpBGYgAnFoYKCA/aD6yFLXZC91V8EaHbufHn3rp2gGH4w3717/PbthrDvt2+P//49vnuR71/Y8eLPX37xZwH7dlNQgRGYkEgiJjOBnsGEuaVykqJEWXHSbGYqZn9+HKFIzJcLOfIcrlzILRTy5Dk8uRCe4ctyBIVguTkKkQgxcW5xnrg0X1xeIKkEyEqLgGWaumqrQdPeah0d6JyfGVs/snjh9MbNKxdPrh126w0SNjuWQsiMi8yKj0oFpMABE6I4SfSsxOjMeLowLTY7KTozgSFMSwC88nmZwqy0fD5HLhJIc3nSXEGhRFyukBVJJeXFRRBAyosVlWWltVWVPtEkNIOCjSZjqDhUOLjb9urCPbt2I8u/trelB+7s3rVj+7rdbr/9ewP9fYMCfEMC/cCCA5BzKIwD/IL99/v77vHds2vf7h27d7y0Z8dL2MB9oMiI6MAkOimJTobpzYqP5KdE56QzWFjfnMhQCS9TwsmQcNIlnKx8TtYP53wOWwLGZUt5bCmfK+HzCviAoxB4V1NS1FSrtOjULruhr9s9NTYIaW7z6NK5k8fPbB5ZOTjVomrkJyfHUrCpdGJyNCklJgLYlJ0YzUsC14tibbcOZ8TTBKmx4I8ZCdHsZCY3NV6YlZybnZrHz4bIJeKzITnmCwTFkry83BzAq7KspKyosEyhqK2u8oH4wo6j5mbEFwqSy/MyS3JSxVnxWUlRyTFkBgXDjCRQCWgaAUXEhOLDQ8PDgrHoUAImDBceSkS+tyQMnsSFhUJoQ4cEQmhDBfmBAXxBvnuDgXg7d/ju2UlGBWfF04SZTGF6bG5GnCg7IYMUyKMGizhp21EjTcxOF7EzxWCczDxudj6fXZADuSm3VCapLi+qU5bWKctadI1uu7G/q21ipGt+emRtaXrr6NLp9dWV2QPdTkt9oZjNjEiKJMVQcBmxlNQYchozIoVB5iQgrelcFiMrng4ET4mhsZMYvNRYQXq8KBPcMImXmpDPyxBzM/L5WfkCdi4XnJFbUpCnyBdJgdEF+cpiBTALwKooK/FhkHEMAiqXxawv4Dk11W2GWndzubo4p7kiv76IXy7JrpRkKnLScjIS8tjJafH0xOgIGgkTG0WJo1Nj6RGMCAKdgqfg0CQcioJDAT0pmFAaEUPChJExoWRsKDYsKCwQ4R0NjxZkxpVJOOVSjpCOqkjEViokFcWSiqL8yuKC6lJ5dbm8ForzqjJVTUWTqkqvUbWYtHYbokUtOk2XyzbU1TY11D0x2NUP2kmvrSlRFOVylXnZzaUiTblYVy5UFXELuCx2AtLRCU4HbBKwGOxEenoMFWm4Tonlp8SKM+Mz4qPyOWnlEn4eJ1XCS8/jpkv4mQXCbEFWqpjPluQKZGJhsUQEmVGBaC5FsbxQWVpaXlLso6sqkkAKBd6S0fmJkXVSvk1d3qavdRvqXBqlU6NUlYohnbGTY3nA2MwkUOGiTBawNyU+Oi4ygkbARJNwdDKORkIWEzDI+GgSlk4MjyJioojhsVR8HBUHD3GoYHBVULXY0GCQOaLI8LoUgrq2XKuuNmjqLPpGB8hLq8FlN7udllabsdVuarNb3FZLq9lgg7qjprK+tLCmUFKeJyjJyZJyWNyk6Ky4qMz4SMhxNRKOs6m4u6Wu11o75tW59ZU1MkFuehwfvAxxQECNDg6Yz2ZJOCm8FCaEKg4rTpAWL8hIlnDS5PwMYLeIky7iZIp52ZIcfpEkT1GQL80VyvLFsjwxnAsLJOUlCh97Y4VDXd7SUKrIzRIkktlRGB6dUMxPs6kr2o0NLk1Vh1klF2bJxXyFiFeaD9EkNTOOnhEXlRwbCcoFJpAKtEKH4EODIrFo4GkMBRtHxdNJEAdxCZGkBBohMZJExoWBEAkLRjzUb/tbs/z37QsJCAwPDSOgMBE4YhSZGk2hxtGoiVBFEEkkNJYQhsIGB5NQYdykmGJxdkleZrWMp1XmNyiEldKs6oJspSSjXJwug0I9K662gDPYqh5yNQ+5tQf7bXNDjgGnWldZIBOk5WYmCNJieckxogxwvaTtVuuEnExQpBC54nIykwtzIDhmSQVsMS9LKhbk5fAKRMLqYrkkBzR9XrmiUCYVl8gKCvJEPs7mqjZdjaOp0lhbrKuUKQSpgnhqJhULRMtNiEYkeJGoQsKV8TKk7DROYgwT6aml0Ig4Gh6EPpqMw5DCUTQCFhcaTAoLicRjYmmEeBoxMYpIJ2BouPBIAoZOxpJxKBwK5G4gKtg/dNsrg7d3SgW6Ifsd++0LRFTLXkipIfC8P7JdNCTZ7TPk2b0EDIqbFlsj4xmqZdaGQmN1vqlGYq2Xt2mKO4yV5jq5sbpAXyX3aCtGXU2T7YbZfseppcHTK0OHRl1WVUmxKBtiSAE3OTshmpPM4CYzAT5OMuj42HxuenG+sACSci4vl51ZIOJLc/nFUhEILtAuRfm5RfmikoL8Imm+Qprv42hUupqr7E2VNlW5paG0pa6srliYnx6TRglPJqLikQVaOAYJfApDx4fTsKFkdCgRHULF4cJAcAT4gmGR9cl+ETgMARVKQocxKcQEekQiHfIDLgIXTsai4RyBDyfj0Hh0CCYsKDwkMDwkAB0cgA7xRwf5Q0KAoAYP4QWDINX6ITjCALm14Qsg+kL+DQ7wRwf7MamEwpx0U518zKMddKqGXY0HOrQDrep+p3qwVeNQl3YYarrMdd2Wul5b47jXeHJ55N7V9dcuHd2Y6fLoq2oUYjZo98RofmosLyUWIj0/NT6PnS5mp+Vx0uUCdh4/UyLkgBvKRDkl0ny5OLeiSFZdJIM8A8xSFEh82rS1dnUFOJ2zscLZrATINEq5QpiZRkGzcCFxhNBYQhiTEMbAh0Xjwhi4UAY2NBITQsejkfVd4IDAlyA/dKBvwP49mOBAGh7LJBPiqOR4Gik2ggjxKxKMgIskYiNwaCI2jAiZFBWMRQUTwkOI4SEwwIYGAekwYcGY0CAosEJ/nAMQJcgCYXRwIOAYhQ9jRRITaYSMGCo7IVpVIjrQaVqbbN842LE133Vksu3wuGvUq5vw6vqdzYMuzYjHMObRw3ntQPe9yxuvX9k4f/TgzKDbVFtUU5hTwAffZEFoz89mcZMTcrNSFSK+XMSDVCgWcEBnIXghOl4iF4uAU0qFDJACTe/jMSCBydlc6WhWOiB+NZabaorUpflFgvTkCHwULjiRhGbigmPxoUxcaDTAFB4UiQ6iogJp4cFRoDnDg2nhQRRUECU8BB2wH2odoF5CBDGOSmTRKeCPDAoBjAkvRcJSsCgqPhzgQ1qUkO/iC8Wjf5AgKGJ4GAUfTsChCdgwECIAH40QTsWioomYSDwaaXanEVKiiCwqITmKmEglyHmpNlXJsan2E4d6rxwduXJs7Ni0Z3XSszLuXh73LI17ZwedA05td0vTQKv+8IHu88dmlyf6jh8aOzTa5dRWV8oEhaLsnIwkfloSgJXHzSoSCURcIBdHJs5ZWSiaPWsQnT8nO6avn5dcruM5FV084WmfVk21s7kGwhZwqqWuxNZQbm0oaSqXaCtlTaV5TWV5tYWCFDqREuIXARaMGDXElxrqH4kKiEIF0ML8I8J8CaG++GA/EioIF7gPG7SfGo5i0ShpsXRuSkxaLA10ID+VkRpLi4kgQuAHlkWRcIBXBB5DJeKoRCxkUnieQSNE0/DRVFx8JCGZTkqnkxJpCOixEYRkBimOhs+Ki+SxojOZEWkMMgg3EOVybgq826OT3lMLfXfOzF0+Pnlt68ArxybOHR7dWhxcHvO0NlW1NJR5dDUTHh3S5jvo3locO7kyuXqgG0SSqkwqy8kqQCoHToGQK88VyHOFxfni5x8q3/z3QOa//53zm476B4J/a5JHi44nc/79vwAiVp1YJHGzTgAAAABJRU5ErkJggg==)</td><td>List(major, 0.4651804268360138)</td><td>4</td><td>null</td><td>NOT VALID</td><td>claim value more than premium</td><td>Severity does not match</td><td>Normal Speed</td><td>claim needs more investigation</td></tr></tbody></table></div>"
      ]
     },
     "metadata": {
      "application/vnd.databricks.v1+output": {
       "addedWidgets": {},
       "aggData": [],
       "aggError": "",
       "aggOverflow": false,
       "aggSchema": [],
       "aggSeriesLimitReached": false,
       "aggType": "",
       "arguments": {},
       "columnCustomDisplayInfos": {
        "content": {
         "dataType": "image",
         "defaultDisplayFields": [
          "content"
         ],
         "downloadResultsFields": [
          "content"
         ]
        }
       },
       "data": [
        [
         "1f765afc-5d41-4ef2-87f7-a60a2aeaf92c",
         "LVVDC21B3GD020661",
         "102144371",
         "2020-06-16",
         298,
         5830,
         11660,
         40810,
         58300,
         "Rear Collision",
         1,
         27.0,
         "not-in-family",
         "2012-04-30",
         "2020-10-04",
         3,
         "Single Vehicle Collision",
         "Minor Damage",
         1,
         false,
         "3577.0",
         "COMP",
         "2020-05-03",
         "2020-06-06",
         "2021-07-05",
         "CHERY",
         "ARIZO 7",
         2016,
         "PRIVATE",
         "STANDARD",
         17203.0,
         1030.0,
         500,
         3577,
         "2006-05-16",
         "QUEENS",
         "WEST QUEENS",
         "11377",
         "Julius",
         "Wagner",
         "QUEENS, 11377",
         [
          -52.034763,
          124.71737
         ],
         31.039113200704257,
         40.76418333333333,
         -73.88939078333333,
         "2_High.jpg",
         "dbfs:/Volumes/smart_claims_dev/00_landing/claims/images/2_High.jpg",
         "2025-08-10T08:58:30Z",
         1928661,
         [
          "iVBORw0KGgoAAAANSUhEUgAABAAAAAQACAIAAADwf7zUAAAAemVYSWZNTQAqAAAACAACknwAAgAAAD0AAAAmkoYAAgAAABYAAABkAAAAAE9wZW5BSS0tSW1hZ2VHZW5lcmF0aW9uLS1nZW5lcmF0aW9uLVh0SkVrOHhpem5mZHE= (truncated)",
          "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"
         ],
         [
          "major",
          0.4651804268360138
         ],
         "4",
         null,
         "NOT VALID",
         "claim value more than premium",
         "Severity does not match",
         "Normal Speed",
         "claim needs more investigation"
        ]
       ],
       "datasetInfos": [
        {
         "name": "_sqldf",
         "schema": {
          "fields": [
           {
            "metadata": {},
            "name": "claim_no",
            "nullable": true,
            "type": "string"
           },
           {
            "metadata": {},
            "name": "chassis_no",
            "nullable": true,
            "type": "string"
           },
           {
            "metadata": {},
            "name": "policy_no",
            "nullable": true,
            "type": "string"
           },
           {
            "metadata": {},
            "name": "claim_date",
            "nullable": true,
            "type": "date"
           },
           {
            "metadata": {},
            "name": "months_as_customer",
            "nullable": true,
            "type": "integer"
           },
           {
            "metadata": {},
            "name": "injury",
            "nullable": true,
            "type": "long"
           },
           {
            "metadata": {},
            "name": "property",
            "nullable": true,
            "type": "long"
           },
           {
            "metadata": {},
            "name": "vehicle",
            "nullable": true,
            "type": "long"
           },
           {
            "metadata": {},
            "name": "total",
            "nullable": true,
            "type": "long"
           },
           {
            "metadata": {},
            "name": "collision_type",
            "nullable": true,
            "type": "string"
           },
           {
            "metadata": {},
            "name": "number_of_vehicles_involved",
            "nullable": true,
            "type": "integer"
           },
           {
            "metadata": {},
            "name": "driver_age",
            "nullable": true,
            "type": "double"
           },
           {
            "metadata": {},
            "name": "insured_relationship",
            "nullable": true,
            "type": "string"
           },
           {
            "metadata": {},
            "name": "license_issue_date",
            "nullable": true,
            "type": "date"
           },
           {
            "metadata": {},
            "name": "incident_date",
            "nullable": true,
            "type": "date"
           },
           {
            "metadata": {},
            "name": "incident_hour",
            "nullable": true,
            "type": "integer"
           },
           {
            "metadata": {},
            "name": "incident_type",
            "nullable": true,
            "type": "string"
           },
           {
            "metadata": {},
            "name": "incident_severity",
            "nullable": true,
            "type": "string"
           },
           {
            "metadata": {},
            "name": "number_of_witnesses",
            "nullable": true,
            "type": "integer"
           },
           {
            "metadata": {},
            "name": "suspicious_activity",
            "nullable": true,
            "type": "boolean"
           },
           {
            "metadata": {},
            "name": "cust_id",
            "nullable": true,
            "type": "string"
           },
           {
            "metadata": {},
            "name": "policytype",
            "nullable": true,
            "type": "string"
           },
           {
            "metadata": {},
            "name": "pol_issue_date",
            "nullable": true,
            "type": "date"
           },
           {
            "metadata": {},
            "name": "pol_eff_date",
            "nullable": true,
            "type": "date"
           },
           {
            "metadata": {},
            "name": "pol_expiry_date",
            "nullable": true,
            "type": "date"
           },
           {
            "metadata": {},
            "name": "make",
            "nullable": true,
            "type": "string"
           },
           {
            "metadata": {},
            "name": "model",
            "nullable": true,
            "type": "string"
           },
           {
            "metadata": {},
            "name": "model_year",
            "nullable": true,
            "type": "integer"
           },
           {
            "metadata": {},
            "name": "use_of_vehicle",
            "nullable": true,
            "type": "string"
           },
           {
            "metadata": {},
            "name": "product",
            "nullable": true,
            "type": "string"
           },
           {
            "metadata": {},
            "name": "sum_insured",
            "nullable": true,
            "type": "double"
           },
           {
            "metadata": {},
            "name": "premium",
            "nullable": true,
            "type": "double"
           },
           {
            "metadata": {},
            "name": "deductable",
            "nullable": true,
            "type": "integer"
           },
           {
            "metadata": {},
            "name": "customer_id",
            "nullable": true,
            "type": "integer"
           },
           {
            "metadata": {},
            "name": "date_of_birth",
            "nullable": true,
            "type": "date"
           },
           {
            "metadata": {},
            "name": "borough",
            "nullable": true,
            "type": "string"
           },
           {
            "metadata": {},
            "name": "neighborhood",
            "nullable": true,
            "type": "string"
           },
           {
            "metadata": {},
            "name": "zip_code",
            "nullable": true,
            "type": "string"
           },
           {
            "metadata": {},
            "name": "firstname",
            "nullable": true,
            "type": "string"
           },
           {
            "metadata": {},
            "name": "lastname",
            "nullable": true,
            "type": "string"
           },
           {
            "metadata": {},
            "name": "address",
            "nullable": true,
            "type": "string"
           },
           {
            "metadata": {},
            "name": "lat_long",
            "nullable": true,
            "type": {
             "fields": [
              {
               "metadata": {},
               "name": "latitude",
               "nullable": true,
               "type": "float"
              },
              {
               "metadata": {},
               "name": "longitude",
               "nullable": true,
               "type": "float"
              }
             ],
             "type": "struct"
            }
           },
           {
            "metadata": {},
            "name": "telematics_speed",
            "nullable": true,
            "type": "double"
           },
           {
            "metadata": {},
            "name": "telematics_latitude",
            "nullable": true,
            "type": "double"
           },
           {
            "metadata": {},
            "name": "telematics_longitude",
            "nullable": true,
            "type": "double"
           },
           {
            "metadata": {},
            "name": "image_name",
            "nullable": true,
            "type": "string"
           },
           {
            "metadata": {},
            "name": "path",
            "nullable": true,
            "type": "string"
           },
           {
            "metadata": {},
            "name": "modificationTime",
            "nullable": true,
            "type": "timestamp"
           },
           {
            "metadata": {},
            "name": "length",
            "nullable": true,
            "type": "long"
           },
           {
            "metadata": {
             "spark.contentAnnotation.mimeType": "image/jpeg"
            },
            "name": "content",
            "nullable": true,
            "type": "binary"
           },
           {
            "metadata": {},
            "name": "damage_prediction",
            "nullable": true,
            "type": {
             "fields": [
              {
               "metadata": {},
               "name": "label",
               "nullable": true,
               "type": "string"
              },
              {
               "metadata": {},
               "name": "score",
               "nullable": true,
               "type": "double"
              }
             ],
             "type": "struct"
            }
           },
           {
            "metadata": {},
            "name": "image_id",
            "nullable": true,
            "type": "string"
           },
           {
            "metadata": {},
            "name": "_rescued_data",
            "nullable": true,
            "type": "string"
           },
           {
            "metadata": {},
            "name": "valid_date",
            "nullable": true,
            "type": "string"
           },
           {
            "metadata": {},
            "name": "valid_amount",
            "nullable": true,
            "type": "string"
           },
           {
            "metadata": {},
            "name": "reported_severity_check",
            "nullable": true,
            "type": "string"
           },
           {
            "metadata": {},
            "name": "speed_check",
            "nullable": true,
            "type": "string"
           },
           {
            "metadata": {},
            "name": "fund_release",
            "nullable": true,
            "type": "string"
           }
          ],
          "type": "struct"
         },
         "tableIdentifier": null,
         "typeStr": "pyspark.sql.dataframe.DataFrame"
        }
       ],
       "dbfsResultPath": null,
       "isJsonSchema": true,
       "metadata": {
        "createTempViewForImplicitDf": true,
        "dataframeName": "_sqldf",
        "executionCount": 31
       },
       "overflow": false,
       "plotOptions": {
        "customPlotOptions": {},
        "displayType": "table",
        "pivotAggregation": null,
        "pivotColumns": null,
        "xColumns": null,
        "yColumns": null
       },
       "removedWidgets": [],
       "schema": [
        {
         "metadata": "{}",
         "name": "claim_no",
         "type": "\"string\""
        },
        {
         "metadata": "{}",
         "name": "chassis_no",
         "type": "\"string\""
        },
        {
         "metadata": "{}",
         "name": "policy_no",
         "type": "\"string\""
        },
        {
         "metadata": "{}",
         "name": "claim_date",
         "type": "\"date\""
        },
        {
         "metadata": "{}",
         "name": "months_as_customer",
         "type": "\"integer\""
        },
        {
         "metadata": "{}",
         "name": "injury",
         "type": "\"long\""
        },
        {
         "metadata": "{}",
         "name": "property",
         "type": "\"long\""
        },
        {
         "metadata": "{}",
         "name": "vehicle",
         "type": "\"long\""
        },
        {
         "metadata": "{}",
         "name": "total",
         "type": "\"long\""
        },
        {
         "metadata": "{}",
         "name": "collision_type",
         "type": "\"string\""
        },
        {
         "metadata": "{}",
         "name": "number_of_vehicles_involved",
         "type": "\"integer\""
        },
        {
         "metadata": "{}",
         "name": "driver_age",
         "type": "\"double\""
        },
        {
         "metadata": "{}",
         "name": "insured_relationship",
         "type": "\"string\""
        },
        {
         "metadata": "{}",
         "name": "license_issue_date",
         "type": "\"date\""
        },
        {
         "metadata": "{}",
         "name": "incident_date",
         "type": "\"date\""
        },
        {
         "metadata": "{}",
         "name": "incident_hour",
         "type": "\"integer\""
        },
        {
         "metadata": "{}",
         "name": "incident_type",
         "type": "\"string\""
        },
        {
         "metadata": "{}",
         "name": "incident_severity",
         "type": "\"string\""
        },
        {
         "metadata": "{}",
         "name": "number_of_witnesses",
         "type": "\"integer\""
        },
        {
         "metadata": "{}",
         "name": "suspicious_activity",
         "type": "\"boolean\""
        },
        {
         "metadata": "{}",
         "name": "cust_id",
         "type": "\"string\""
        },
        {
         "metadata": "{}",
         "name": "policytype",
         "type": "\"string\""
        },
        {
         "metadata": "{}",
         "name": "pol_issue_date",
         "type": "\"date\""
        },
        {
         "metadata": "{}",
         "name": "pol_eff_date",
         "type": "\"date\""
        },
        {
         "metadata": "{}",
         "name": "pol_expiry_date",
         "type": "\"date\""
        },
        {
         "metadata": "{}",
         "name": "make",
         "type": "\"string\""
        },
        {
         "metadata": "{}",
         "name": "model",
         "type": "\"string\""
        },
        {
         "metadata": "{}",
         "name": "model_year",
         "type": "\"integer\""
        },
        {
         "metadata": "{}",
         "name": "use_of_vehicle",
         "type": "\"string\""
        },
        {
         "metadata": "{}",
         "name": "product",
         "type": "\"string\""
        },
        {
         "metadata": "{}",
         "name": "sum_insured",
         "type": "\"double\""
        },
        {
         "metadata": "{}",
         "name": "premium",
         "type": "\"double\""
        },
        {
         "metadata": "{}",
         "name": "deductable",
         "type": "\"integer\""
        },
        {
         "metadata": "{}",
         "name": "customer_id",
         "type": "\"integer\""
        },
        {
         "metadata": "{}",
         "name": "date_of_birth",
         "type": "\"date\""
        },
        {
         "metadata": "{}",
         "name": "borough",
         "type": "\"string\""
        },
        {
         "metadata": "{}",
         "name": "neighborhood",
         "type": "\"string\""
        },
        {
         "metadata": "{}",
         "name": "zip_code",
         "type": "\"string\""
        },
        {
         "metadata": "{}",
         "name": "firstname",
         "type": "\"string\""
        },
        {
         "metadata": "{}",
         "name": "lastname",
         "type": "\"string\""
        },
        {
         "metadata": "{}",
         "name": "address",
         "type": "\"string\""
        },
        {
         "metadata": "{}",
         "name": "lat_long",
         "type": "{\"type\":\"struct\",\"fields\":[{\"name\":\"latitude\",\"type\":\"float\",\"nullable\":true,\"metadata\":{}},{\"name\":\"longitude\",\"type\":\"float\",\"nullable\":true,\"metadata\":{}}]}"
        },
        {
         "metadata": "{}",
         "name": "telematics_speed",
         "type": "\"double\""
        },
        {
         "metadata": "{}",
         "name": "telematics_latitude",
         "type": "\"double\""
        },
        {
         "metadata": "{}",
         "name": "telematics_longitude",
         "type": "\"double\""
        },
        {
         "metadata": "{}",
         "name": "image_name",
         "type": "\"string\""
        },
        {
         "metadata": "{}",
         "name": "path",
         "type": "\"string\""
        },
        {
         "metadata": "{}",
         "name": "modificationTime",
         "type": "\"timestamp\""
        },
        {
         "metadata": "{}",
         "name": "length",
         "type": "\"long\""
        },
        {
         "metadata": "{}",
         "name": "content",
         "type": "{\"type\":\"struct\",\"fields\":[{\"name\":\"content\",\"type\":\"binary\",\"nullable\":true,\"metadata\":{}},{\"name\":\"thumbnail\",\"type\":\"binary\",\"nullable\":true,\"metadata\":{}}]}"
        },
        {
         "metadata": "{}",
         "name": "damage_prediction",
         "type": "{\"type\":\"struct\",\"fields\":[{\"name\":\"label\",\"type\":\"string\",\"nullable\":true,\"metadata\":{}},{\"name\":\"score\",\"type\":\"double\",\"nullable\":true,\"metadata\":{}}]}"
        },
        {
         "metadata": "{}",
         "name": "image_id",
         "type": "\"string\""
        },
        {
         "metadata": "{}",
         "name": "_rescued_data",
         "type": "\"string\""
        },
        {
         "metadata": "{}",
         "name": "valid_date",
         "type": "\"string\""
        },
        {
         "metadata": "{}",
         "name": "valid_amount",
         "type": "\"string\""
        },
        {
         "metadata": "{}",
         "name": "reported_severity_check",
         "type": "\"string\""
        },
        {
         "metadata": "{}",
         "name": "speed_check",
         "type": "\"string\""
        },
        {
         "metadata": "{}",
         "name": "fund_release",
         "type": "\"string\""
        }
       ],
       "type": "table"
      }
     },
     "output_type": "display_data"
    }
   ],
   "source": [
    "%sql\n",
    "SELECT *  FROM smart_claims_dev.03_gold.claim_insights\n",
    "LIMIT 1"
   ]
  }
 ],
 "metadata": {
  "application/vnd.databricks.v1+notebook": {
   "computePreferences": null,
   "dashboards": [],
   "environmentMetadata": {
    "base_environment": "",
    "environment_version": "2"
   },
   "inputWidgetPreferences": null,
   "language": "python",
   "notebookMetadata": {
    "mostRecentlyExecutedCommandWithImplicitDF": {
     "commandId": 8250567717939136,
     "dataframes": [
      "_sqldf"
     ]
    },
    "pythonIndentUnit": 4
   },
   "notebookName": "Rule_Engine",
   "widgets": {}
  },
  "language_info": {
   "name": "python"
  }
 },
 "nbformat": 4,
 "nbformat_minor": 0
}